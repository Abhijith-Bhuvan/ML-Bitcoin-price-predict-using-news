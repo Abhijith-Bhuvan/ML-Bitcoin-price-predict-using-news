{
 "cells": [
  {
   "cell_type": "code",
   "execution_count": 1,
   "metadata": {},
   "outputs": [],
   "source": [
    "import Access_Keys"
   ]
  },
  {
   "cell_type": "code",
   "execution_count": 2,
   "metadata": {
    "id": "DCWfAAhJNxhG"
   },
   "outputs": [],
   "source": [
    "URL = 'http://www.cryptodatadownload.com/cdd/Binance_BTCUSDT_d.csv'"
   ]
  },
  {
   "cell_type": "code",
   "execution_count": 5,
   "metadata": {
    "id": "zFPAiknfNxhT",
    "outputId": "6fe0fc45-2742-4c22-f9a4-19b128ae655a"
   },
   "outputs": [
    {
     "data": {
      "text/plain": [
       "('Binance_BTCUSDT_d.csv', <http.client.HTTPMessage at 0x20663802fc8>)"
      ]
     },
     "execution_count": 5,
     "metadata": {},
     "output_type": "execute_result"
    }
   ],
   "source": [
    "from urllib.request import urlretrieve\n",
    "urlretrieve(URL, 'Binance_BTCUSDT_d.csv')"
   ]
  },
  {
   "cell_type": "code",
   "execution_count": 6,
   "metadata": {
    "id": "0uR_vFXPNxhW"
   },
   "outputs": [],
   "source": [
    "import pandas as pd\n",
    "import numpy as np"
   ]
  },
  {
   "cell_type": "code",
   "execution_count": 35,
   "metadata": {
    "colab": {
     "base_uri": "https://localhost:8080/",
     "height": 206
    },
    "executionInfo": {
     "elapsed": 1121,
     "status": "ok",
     "timestamp": 1613575248156,
     "user": {
      "displayName": "abhijith bhuvandas",
      "photoUrl": "",
      "userId": "17758300446863295043"
     },
     "user_tz": -330
    },
    "id": "3Ax7-KyINxhX",
    "outputId": "28e86de9-62d8-4253-f466-bc292835ed75"
   },
   "outputs": [
    {
     "data": {
      "text/html": [
       "<div>\n",
       "<style scoped>\n",
       "    .dataframe tbody tr th:only-of-type {\n",
       "        vertical-align: middle;\n",
       "    }\n",
       "\n",
       "    .dataframe tbody tr th {\n",
       "        vertical-align: top;\n",
       "    }\n",
       "\n",
       "    .dataframe thead th {\n",
       "        text-align: right;\n",
       "    }\n",
       "</style>\n",
       "<table border=\"1\" class=\"dataframe\">\n",
       "  <thead>\n",
       "    <tr style=\"text-align: right;\">\n",
       "      <th></th>\n",
       "      <th>date</th>\n",
       "      <th>open</th>\n",
       "      <th>high</th>\n",
       "      <th>low</th>\n",
       "      <th>close</th>\n",
       "    </tr>\n",
       "  </thead>\n",
       "  <tbody>\n",
       "    <tr>\n",
       "      <th>0</th>\n",
       "      <td>2021-04-30 00:00:00</td>\n",
       "      <td>53555.00</td>\n",
       "      <td>53623.00</td>\n",
       "      <td>53482.20</td>\n",
       "      <td>53620.63</td>\n",
       "    </tr>\n",
       "    <tr>\n",
       "      <th>1</th>\n",
       "      <td>2021-04-29 00:00:00</td>\n",
       "      <td>54846.23</td>\n",
       "      <td>55195.84</td>\n",
       "      <td>52330.94</td>\n",
       "      <td>53555.00</td>\n",
       "    </tr>\n",
       "    <tr>\n",
       "      <th>2</th>\n",
       "      <td>2021-04-28 00:00:00</td>\n",
       "      <td>55011.97</td>\n",
       "      <td>56428.00</td>\n",
       "      <td>53813.16</td>\n",
       "      <td>54846.22</td>\n",
       "    </tr>\n",
       "    <tr>\n",
       "      <th>3</th>\n",
       "      <td>2021-04-27 00:00:00</td>\n",
       "      <td>54001.38</td>\n",
       "      <td>55460.00</td>\n",
       "      <td>53222.00</td>\n",
       "      <td>55011.97</td>\n",
       "    </tr>\n",
       "    <tr>\n",
       "      <th>4</th>\n",
       "      <td>2021-04-26 00:00:00</td>\n",
       "      <td>49066.76</td>\n",
       "      <td>54356.62</td>\n",
       "      <td>48753.44</td>\n",
       "      <td>54001.39</td>\n",
       "    </tr>\n",
       "  </tbody>\n",
       "</table>\n",
       "</div>"
      ],
      "text/plain": [
       "                  date      open      high       low     close\n",
       "0  2021-04-30 00:00:00  53555.00  53623.00  53482.20  53620.63\n",
       "1  2021-04-29 00:00:00  54846.23  55195.84  52330.94  53555.00\n",
       "2  2021-04-28 00:00:00  55011.97  56428.00  53813.16  54846.22\n",
       "3  2021-04-27 00:00:00  54001.38  55460.00  53222.00  55011.97\n",
       "4  2021-04-26 00:00:00  49066.76  54356.62  48753.44  54001.39"
      ]
     },
     "execution_count": 35,
     "metadata": {},
     "output_type": "execute_result"
    }
   ],
   "source": [
    "data = pd.read_csv('Binance_BTCUSDT_d.csv',skiprows=1,parse_dates=False,usecols=['date','open','close','high','low'])\n",
    "data.head()"
   ]
  },
  {
   "cell_type": "code",
   "execution_count": 36,
   "metadata": {
    "colab": {
     "base_uri": "https://localhost:8080/",
     "height": 206
    },
    "executionInfo": {
     "elapsed": 1083,
     "status": "ok",
     "timestamp": 1613575203347,
     "user": {
      "displayName": "abhijith bhuvandas",
      "photoUrl": "",
      "userId": "17758300446863295043"
     },
     "user_tz": -330
    },
    "id": "Jpr7mX0zkLrL",
    "outputId": "1bc93478-8f54-46c7-d069-003bf20864ff"
   },
   "outputs": [
    {
     "data": {
      "text/html": [
       "<div>\n",
       "<style scoped>\n",
       "    .dataframe tbody tr th:only-of-type {\n",
       "        vertical-align: middle;\n",
       "    }\n",
       "\n",
       "    .dataframe tbody tr th {\n",
       "        vertical-align: top;\n",
       "    }\n",
       "\n",
       "    .dataframe thead th {\n",
       "        text-align: right;\n",
       "    }\n",
       "</style>\n",
       "<table border=\"1\" class=\"dataframe\">\n",
       "  <thead>\n",
       "    <tr style=\"text-align: right;\">\n",
       "      <th></th>\n",
       "      <th>date</th>\n",
       "      <th>open</th>\n",
       "      <th>high</th>\n",
       "      <th>low</th>\n",
       "      <th>close</th>\n",
       "    </tr>\n",
       "  </thead>\n",
       "  <tbody>\n",
       "    <tr>\n",
       "      <th>1349</th>\n",
       "      <td>2017-08-21</td>\n",
       "      <td>4086.29</td>\n",
       "      <td>4119.62</td>\n",
       "      <td>3911.79</td>\n",
       "      <td>4016.00</td>\n",
       "    </tr>\n",
       "    <tr>\n",
       "      <th>1350</th>\n",
       "      <td>2017-08-20</td>\n",
       "      <td>4139.98</td>\n",
       "      <td>4211.08</td>\n",
       "      <td>4032.62</td>\n",
       "      <td>4086.29</td>\n",
       "    </tr>\n",
       "    <tr>\n",
       "      <th>1351</th>\n",
       "      <td>2017-08-19</td>\n",
       "      <td>4108.37</td>\n",
       "      <td>4184.69</td>\n",
       "      <td>3850.00</td>\n",
       "      <td>4139.98</td>\n",
       "    </tr>\n",
       "    <tr>\n",
       "      <th>1352</th>\n",
       "      <td>2017-08-18</td>\n",
       "      <td>4285.08</td>\n",
       "      <td>4371.52</td>\n",
       "      <td>3938.77</td>\n",
       "      <td>4108.37</td>\n",
       "    </tr>\n",
       "    <tr>\n",
       "      <th>1353</th>\n",
       "      <td>2017-08-17</td>\n",
       "      <td>4469.93</td>\n",
       "      <td>4485.39</td>\n",
       "      <td>4200.74</td>\n",
       "      <td>4285.08</td>\n",
       "    </tr>\n",
       "  </tbody>\n",
       "</table>\n",
       "</div>"
      ],
      "text/plain": [
       "            date     open     high      low    close\n",
       "1349  2017-08-21  4086.29  4119.62  3911.79  4016.00\n",
       "1350  2017-08-20  4139.98  4211.08  4032.62  4086.29\n",
       "1351  2017-08-19  4108.37  4184.69  3850.00  4139.98\n",
       "1352  2017-08-18  4285.08  4371.52  3938.77  4108.37\n",
       "1353  2017-08-17  4469.93  4485.39  4200.74  4285.08"
      ]
     },
     "execution_count": 36,
     "metadata": {},
     "output_type": "execute_result"
    }
   ],
   "source": [
    "data.tail()"
   ]
  },
  {
   "cell_type": "code",
   "execution_count": 37,
   "metadata": {
    "colab": {
     "base_uri": "https://localhost:8080/"
    },
    "executionInfo": {
     "elapsed": 1335,
     "status": "ok",
     "timestamp": 1613575250170,
     "user": {
      "displayName": "abhijith bhuvandas",
      "photoUrl": "",
      "userId": "17758300446863295043"
     },
     "user_tz": -330
    },
    "id": "s85cOpKQg3bA",
    "outputId": "c675f62c-583e-4e29-ccb9-1413f0866942"
   },
   "outputs": [
    {
     "name": "stdout",
     "output_type": "stream",
     "text": [
      "[1230, 1231, 1232, 1233, 1234, 1235, 1236, 1237, 1238, 1239, 1240, 1241, 1242, 1243, 1244, 1245, 1246, 1247, 1248, 1249, 1250, 1251, 1252, 1253, 1254, 1255, 1256, 1257, 1258, 1259, 1260, 1261, 1262, 1263, 1264, 1265, 1266, 1267, 1268, 1269, 1270, 1271, 1272, 1273, 1274, 1275, 1276, 1277, 1278, 1279, 1280, 1281, 1282, 1283, 1284, 1285, 1286, 1287, 1288, 1289, 1290, 1291, 1292, 1293, 1294, 1295, 1296, 1297, 1298, 1299, 1300, 1301, 1302, 1303, 1304, 1305, 1306, 1307, 1308, 1309, 1310, 1311, 1312, 1313, 1314, 1315, 1316, 1317, 1318, 1319, 1320, 1321, 1322, 1323, 1324, 1325, 1326, 1327, 1328, 1329, 1330, 1331, 1332, 1333, 1334, 1335, 1336, 1337, 1338, 1339, 1340, 1341, 1342, 1343, 1344, 1345, 1346, 1347, 1348, 1349, 1350, 1351, 1352, 1353]\n"
     ]
    }
   ],
   "source": [
    "# len() = 19 for yyyy-mm-dd 00:00:00 format\n",
    "# len() = 10 for yyyy-mm-dd\n",
    "# add 00:00:00 to these to make it uniform\n",
    "\n",
    "replacement_indices = []\n",
    "for i in range(len(data['date'])):\n",
    "    if len(data['date'][i]) != 19:\n",
    "        if len(data['date'][i]) == 10:\n",
    "            replacement_indices.append(i)\n",
    "        else:\n",
    "            print(i) # Any unexpected lengths"
   ]
  },
  {
   "cell_type": "code",
   "execution_count": 38,
   "metadata": {
    "colab": {
     "base_uri": "https://localhost:8080/"
    },
    "executionInfo": {
     "elapsed": 1335,
     "status": "ok",
     "timestamp": 1613575250170,
     "user": {
      "displayName": "abhijith bhuvandas",
      "photoUrl": "",
      "userId": "17758300446863295043"
     },
     "user_tz": -330
    },
    "id": "s85cOpKQg3bA",
    "outputId": "c675f62c-583e-4e29-ccb9-1413f0866942"
   },
   "outputs": [],
   "source": [
    "# iloc uses integer indices only, so I use the index of 'date' coulmn, which is 0\n",
    "data.iloc[replacement_indices, 0] = data.iloc[replacement_indices, 0] + ' 00:00:00'"
   ]
  },
  {
   "cell_type": "code",
   "execution_count": 39,
   "metadata": {},
   "outputs": [
    {
     "data": {
      "text/html": [
       "<div>\n",
       "<style scoped>\n",
       "    .dataframe tbody tr th:only-of-type {\n",
       "        vertical-align: middle;\n",
       "    }\n",
       "\n",
       "    .dataframe tbody tr th {\n",
       "        vertical-align: top;\n",
       "    }\n",
       "\n",
       "    .dataframe thead th {\n",
       "        text-align: right;\n",
       "    }\n",
       "</style>\n",
       "<table border=\"1\" class=\"dataframe\">\n",
       "  <thead>\n",
       "    <tr style=\"text-align: right;\">\n",
       "      <th></th>\n",
       "      <th>date</th>\n",
       "      <th>open</th>\n",
       "      <th>high</th>\n",
       "      <th>low</th>\n",
       "      <th>close</th>\n",
       "    </tr>\n",
       "  </thead>\n",
       "  <tbody>\n",
       "    <tr>\n",
       "      <th>1349</th>\n",
       "      <td>2017-08-21 00:00:00</td>\n",
       "      <td>4086.29</td>\n",
       "      <td>4119.62</td>\n",
       "      <td>3911.79</td>\n",
       "      <td>4016.00</td>\n",
       "    </tr>\n",
       "    <tr>\n",
       "      <th>1350</th>\n",
       "      <td>2017-08-20 00:00:00</td>\n",
       "      <td>4139.98</td>\n",
       "      <td>4211.08</td>\n",
       "      <td>4032.62</td>\n",
       "      <td>4086.29</td>\n",
       "    </tr>\n",
       "    <tr>\n",
       "      <th>1351</th>\n",
       "      <td>2017-08-19 00:00:00</td>\n",
       "      <td>4108.37</td>\n",
       "      <td>4184.69</td>\n",
       "      <td>3850.00</td>\n",
       "      <td>4139.98</td>\n",
       "    </tr>\n",
       "    <tr>\n",
       "      <th>1352</th>\n",
       "      <td>2017-08-18 00:00:00</td>\n",
       "      <td>4285.08</td>\n",
       "      <td>4371.52</td>\n",
       "      <td>3938.77</td>\n",
       "      <td>4108.37</td>\n",
       "    </tr>\n",
       "    <tr>\n",
       "      <th>1353</th>\n",
       "      <td>2017-08-17 00:00:00</td>\n",
       "      <td>4469.93</td>\n",
       "      <td>4485.39</td>\n",
       "      <td>4200.74</td>\n",
       "      <td>4285.08</td>\n",
       "    </tr>\n",
       "  </tbody>\n",
       "</table>\n",
       "</div>"
      ],
      "text/plain": [
       "                     date     open     high      low    close\n",
       "1349  2017-08-21 00:00:00  4086.29  4119.62  3911.79  4016.00\n",
       "1350  2017-08-20 00:00:00  4139.98  4211.08  4032.62  4086.29\n",
       "1351  2017-08-19 00:00:00  4108.37  4184.69  3850.00  4139.98\n",
       "1352  2017-08-18 00:00:00  4285.08  4371.52  3938.77  4108.37\n",
       "1353  2017-08-17 00:00:00  4469.93  4485.39  4200.74  4285.08"
      ]
     },
     "execution_count": 39,
     "metadata": {},
     "output_type": "execute_result"
    }
   ],
   "source": [
    "data.tail()"
   ]
  },
  {
   "cell_type": "code",
   "execution_count": 15,
   "metadata": {
    "colab": {
     "base_uri": "https://localhost:8080/",
     "height": 35
    },
    "executionInfo": {
     "elapsed": 1409,
     "status": "ok",
     "timestamp": 1613575251990,
     "user": {
      "displayName": "abhijith bhuvandas",
      "photoUrl": "",
      "userId": "17758300446863295043"
     },
     "user_tz": -330
    },
    "id": "Kdzn-fxbkitS",
    "outputId": "c607fe84-5dca-41f0-9fe8-9682796ab86e"
   },
   "outputs": [
    {
     "data": {
      "text/plain": [
       "'2017-12-04'"
      ]
     },
     "execution_count": 15,
     "metadata": {},
     "output_type": "execute_result"
    }
   ],
   "source": [
    "data['date'][1244]"
   ]
  },
  {
   "cell_type": "code",
   "execution_count": 42,
   "metadata": {
    "id": "pQyE9AsHfmdk"
   },
   "outputs": [],
   "source": [
    "#convert date to unix time to compare with openblender data\n",
    "data['timestamp'] = OpenBlender.dateToUnix(data['date'], \n",
    "                                           date_format = '%Y-%m-%d %H:%M:%S', \n",
    "                                           timezone = 'GMT')"
   ]
  },
  {
   "cell_type": "code",
   "execution_count": 43,
   "metadata": {
    "colab": {
     "base_uri": "https://localhost:8080/"
    },
    "executionInfo": {
     "elapsed": 1179,
     "status": "ok",
     "timestamp": 1613575258754,
     "user": {
      "displayName": "abhijith bhuvandas",
      "photoUrl": "",
      "userId": "17758300446863295043"
     },
     "user_tz": -330
    },
    "id": "B7x3BHuiNxhY",
    "outputId": "52e29536-541a-48b2-f32c-afb7e783863b",
    "scrolled": true
   },
   "outputs": [
    {
     "data": {
      "text/plain": [
       "date          object\n",
       "open         float64\n",
       "high         float64\n",
       "low          float64\n",
       "close        float64\n",
       "timestamp    float64\n",
       "dtype: object"
      ]
     },
     "execution_count": 43,
     "metadata": {},
     "output_type": "execute_result"
    }
   ],
   "source": [
    "data.dtypes"
   ]
  },
  {
   "cell_type": "code",
   "execution_count": 50,
   "metadata": {
    "id": "gxRfNpofNxhZ",
    "outputId": "69b33a1f-dd79-4ba0-8a3c-274eb251622c"
   },
   "outputs": [
    {
     "data": {
      "text/plain": [
       "<AxesSubplot:xlabel='timestamp'>"
      ]
     },
     "execution_count": 50,
     "metadata": {},
     "output_type": "execute_result"
    },
    {
     "data": {
      "image/png": "[encoded data removed]",
      "text/plain": [
       "<Figure size 432x288 with 1 Axes>"
      ]
     },
     "metadata": {
      "needs_background": "light"
     },
     "output_type": "display_data"
    }
   ],
   "source": [
    "data.plot(x='timestamp',y='low')"
   ]
  },
  {
   "cell_type": "markdown",
   "metadata": {
    "id": "WmelabTAOQ1b"
   },
   "source": [
    "%pip install OpenBlender"
   ]
  },
  {
   "cell_type": "code",
   "execution_count": 41,
   "metadata": {
    "id": "a_88hKRlNxhZ"
   },
   "outputs": [],
   "source": [
    "# The following code is from https://towardsdatascience.com/what-moves-bitcoin-c06f7b46d2e4\n",
    "# with my user tokens\n",
    "\n",
    "import OpenBlender"
   ]
  },
  {
   "cell_type": "code",
   "execution_count": 51,
   "metadata": {
    "id": "cG-lCYr9Nxha"
   },
   "outputs": [],
   "source": [
    "import json"
   ]
  },
  {
   "cell_type": "code",
   "execution_count": 6,
   "metadata": {
    "colab": {
     "base_uri": "https://localhost:8080/"
    },
    "executionInfo": {
     "elapsed": 13252,
     "status": "ok",
     "timestamp": 1613575679465,
     "user": {
      "displayName": "abhijith bhuvandas",
      "photoUrl": "",
      "userId": "17758300446863295043"
     },
     "user_tz": -330
    },
    "id": "VhUn2AYWlm6K",
    "outputId": "bb077820-1a54-4c48-e34f-9fad5e3af3b9",
    "scrolled": true
   },
   "outputs": [],
   "source": [
    "OpenBlender_api_token = Access_Keys.OpenBlender_api_token;"
   ]
  },
  {
   "cell_type": "markdown",
   "metadata": {},
   "source": [
    "List of sources used (Both Headline and title were used):\n",
    "\n",
    "Daily news headlines of NDTV Technology\n",
    "Daily news headlines of Mirror Technology\n",
    "Daily news headlines of Daily Telegraph Technology\n",
    "Daily news headlines of ABC News  International Technology\n",
    "Daily news headlines of Standard Technology\n",
    "Fox News Technology News daily headlines"
   ]
  },
  {
   "cell_type": "code",
   "execution_count": null,
   "metadata": {},
   "outputs": [],
   "source": [
    "action = 'API_getDataWithVectorizer'\n",
    "parameters = {\n",
    "        'token': OpenBlender_api_token,\n",
    "        'id_textVectorizer':'5e668f9b951629532cebb48a',\n",
    "        'aggregate_in_time_interval': {'time_interval_size': 86400},\n",
    "        'omit_vectorizer': 0,\n",
    "        'add_date': 'date'\n",
    "      }\n",
    "response = OpenBlender.call(action, parameters)"
   ]
  },
  {
   "cell_type": "code",
   "execution_count": null,
   "metadata": {},
   "outputs": [],
   "source": [
    "df = pd.read_json(json.dumps(response['sample'])\n",
    "                  ,convert_dates=True,\n",
    "                  convert_axes=False)\n",
    "df.sort_values('timestamp', ascending=False)\n",
    "df.head()"
   ]
  },
  {
   "cell_type": "markdown",
   "metadata": {},
   "source": [
    "import getpass"
   ]
  },
  {
   "cell_type": "code",
   "execution_count": null,
   "metadata": {
    "colab": {
     "base_uri": "https://localhost:8080/"
    },
    "executionInfo": {
     "elapsed": 3231,
     "status": "ok",
     "timestamp": 1613575458636,
     "user": {
      "displayName": "abhijith bhuvandas",
      "photoUrl": "",
      "userId": "17758300446863295043"
     },
     "user_tz": -330
    },
    "id": "65RcW-IWlXep",
    "outputId": "962b609d-7f71-4e7d-bb07-6d119693658a"
   },
   "outputs": [
    {
     "name": "stdout",
     "output_type": "stream",
     "text": [
      "From : 17-08-2017 00:00:00\n",
      "Until: 02-02-2021 00:00:00\n"
     ]
    },
    {
     "data": {
      "text/plain": [
       "[{'description': 'NPR Science News daily headlines',\n",
       "  'features': ['headline', 'publisher', 'timestamp', 'title', 'url'],\n",
       "  'id_dataset': '5d57204d9516293a12ad4f70',\n",
       "  'intersection': '100%',\n",
       "  'name': 'NPR Science News',\n",
       "  'num_observations': 1924,\n",
       "  'url': 'https://www.openblender.io/#/dataset/explore/5d57204d9516293a12ad4f70'},\n",
       " {'description': 'NPR Technology News daily headlines',\n",
       "  'features': ['headline', 'publisher', 'timestamp', 'title', 'url'],\n",
       "  'id_dataset': '5d5ab4259516296e5749de83',\n",
       "  'intersection': '100%',\n",
       "  'name': 'NPR Technology News',\n",
       "  'num_observations': 1653,\n",
       "  'url': 'https://www.openblender.io/#/dataset/explore/5d5ab4259516296e5749de83'},\n",
       " {'description': 'Daily news headlines of The Independent Technology',\n",
       "  'features': ['headline', 'publisher', 'timestamp', 'title', 'url'],\n",
       "  'id_dataset': '5d86608c9516296ba7e6a437',\n",
       "  'intersection': '100%',\n",
       "  'name': 'The Independent Technology headlines',\n",
       "  'num_observations': 4248,\n",
       "  'url': 'https://www.openblender.io/#/dataset/explore/5d86608c9516296ba7e6a437'},\n",
       " {'description': 'Daily news headlines of Belfast Telegraph Technology',\n",
       "  'features': ['headline', 'publisher', 'timestamp', 'title', 'url'],\n",
       "  'id_dataset': '5d884b7e9516294231c59625',\n",
       "  'intersection': '15.24%',\n",
       "  'name': 'Belfast Telegraph Technology headlines',\n",
       "  'num_observations': 117,\n",
       "  'url': 'https://www.openblender.io/#/dataset/explore/5d884b7e9516294231c59625'},\n",
       " {'description': 'Historical data of price of Microsoft Corporation.',\n",
       "  'features': ['price', 'timestamp'],\n",
       "  'id_dataset': '5e8371d695162945e8ae24b0',\n",
       "  'intersection': '24.06%',\n",
       "  'name': 'Microsoft Corporation Price hot',\n",
       "  'num_observations': 1278,\n",
       "  'url': 'https://www.openblender.io/#/dataset/explore/5e8371d695162945e8ae24b0'},\n",
       " {'description': 'Historical data of price from Apple Inc.',\n",
       "  'features': ['price', 'timestamp'],\n",
       "  'id_dataset': '5e8371bd95162945e8ae248e',\n",
       "  'intersection': '24.06%',\n",
       "  'name': 'Apple Inc. Price hot',\n",
       "  'num_observations': 1275,\n",
       "  'url': 'https://www.openblender.io/#/dataset/explore/5e8371bd95162945e8ae248e'},\n",
       " {'description': 'Daily news headlines of CTV  Technology',\n",
       "  'features': ['headline', 'publisher', 'timestamp', 'title', 'url'],\n",
       "  'id_dataset': '5d8cbefb95162904d39b9a54',\n",
       "  'intersection': '32.59%',\n",
       "  'name': 'CTV  Technology headlines',\n",
       "  'num_observations': 1711,\n",
       "  'url': 'https://www.openblender.io/#/dataset/explore/5d8cbefb95162904d39b9a54'},\n",
       " {'description': 'Daily News Headlines of Milenio, source: https://www.milenio.com/tecnologia',\n",
       "  'features': ['editor', 'timestamp', 'titular', 'titulo', 'url'],\n",
       "  'id_dataset': '5dc48abf9516290ee1e90e6e',\n",
       "  'intersection': '35.84%',\n",
       "  'name': 'Milenio technology headlines',\n",
       "  'num_observations': 994,\n",
       "  'url': 'https://www.openblender.io/#/dataset/explore/5dc48abf9516290ee1e90e6e'},\n",
       " {'description': 'Daily News Headlines of El Debate, source: https://www.debate.com.mx/seccion/tecnologia',\n",
       "  'features': ['editor', 'timestamp', 'titular', 'titulo', 'url'],\n",
       "  'id_dataset': '5dc48afa9516290ee1e90e92',\n",
       "  'intersection': '36.47%',\n",
       "  'name': 'El Debate technology headlines',\n",
       "  'num_observations': 2821,\n",
       "  'url': 'https://www.openblender.io/#/dataset/explore/5dc48afa9516290ee1e90e92'},\n",
       " {'description': 'Daily news headlines of Breaking News Technology',\n",
       "  'features': ['headline', 'publisher', 'timestamp', 'title', 'url'],\n",
       "  'id_dataset': '5d865dfe9516296ba7e6a3d7',\n",
       "  'intersection': '37.7%',\n",
       "  'name': 'Breaking News Technology headlines',\n",
       "  'num_observations': 589,\n",
       "  'url': 'https://www.openblender.io/#/dataset/explore/5d865dfe9516296ba7e6a3d7'},\n",
       " {'description': 'Daily news headlines of NDTV Technology',\n",
       "  'features': ['headline', 'publisher', 'timestamp', 'title', 'url'],\n",
       "  'id_dataset': '5d92004695162936ebc05dfd',\n",
       "  'intersection': '37.7%',\n",
       "  'name': 'NDTV Technology headlines',\n",
       "  'num_observations': 8105,\n",
       "  'url': 'https://www.openblender.io/#/dataset/explore/5d92004695162936ebc05dfd'},\n",
       " {'description': 'Daily news headlines of Indian Express Technology',\n",
       "  'features': ['headline', 'publisher', 'timestamp', 'title', 'url'],\n",
       "  'id_dataset': '5d92028295162936ebc05e21',\n",
       "  'intersection': '37.7%',\n",
       "  'name': 'Indian Express Technology headlines',\n",
       "  'num_observations': 78,\n",
       "  'url': 'https://www.openblender.io/#/dataset/explore/5d92028295162936ebc05e21'},\n",
       " {'description': 'Daily news headlines of Mirror Technology',\n",
       "  'features': ['headline', 'publisher', 'timestamp', 'title', 'url'],\n",
       "  'id_dataset': '5d88496b9516294231c595a8',\n",
       "  'intersection': '37.86%',\n",
       "  'name': 'Mirror Technology headlines',\n",
       "  'num_observations': 23488,\n",
       "  'url': 'https://www.openblender.io/#/dataset/explore/5d88496b9516294231c595a8'},\n",
       " {'description': 'Daily news headlines of India Today Technology',\n",
       "  'features': ['headline', 'publisher', 'timestamp', 'title', 'url'],\n",
       "  'id_dataset': '5d9205ec95162936ebc05e4e',\n",
       "  'intersection': '37.87%',\n",
       "  'name': 'India Today Technology headlines',\n",
       "  'num_observations': 1474,\n",
       "  'url': 'https://www.openblender.io/#/dataset/explore/5d9205ec95162936ebc05e4e'},\n",
       " {'description': 'Daily News Headlines of El Universal, source: http://www.eluniversal.com/tecnologia',\n",
       "  'features': ['editor', 'timestamp', 'titular', 'titulo', 'url'],\n",
       "  'id_dataset': '5dc48a729516290ee1e90e54',\n",
       "  'intersection': '38.32%',\n",
       "  'name': 'El Universal technology headlines',\n",
       "  'num_observations': 165,\n",
       "  'url': 'https://www.openblender.io/#/dataset/explore/5dc48a729516290ee1e90e54'},\n",
       " {'description': 'Daily news headlines of Global News Technology',\n",
       "  'features': ['headline', 'publisher', 'timestamp', 'title', 'url'],\n",
       "  'id_dataset': '5d8cb7b495162904d39b994e',\n",
       "  'intersection': '38.52%',\n",
       "  'name': 'Global News Technology headlines',\n",
       "  'num_observations': 538,\n",
       "  'url': 'https://www.openblender.io/#/dataset/explore/5d8cb7b495162904d39b994e'},\n",
       " {'description': 'Daily news headlines of Daily Telegraph Technology',\n",
       "  'features': ['headline', 'publisher', 'timestamp', 'title', 'url'],\n",
       "  'id_dataset': '5d8cbac695162904d40d40b9',\n",
       "  'intersection': '38.61%',\n",
       "  'name': 'Daily Telegraph Technology headlines',\n",
       "  'num_observations': 4538,\n",
       "  'url': 'https://www.openblender.io/#/dataset/explore/5d8cbac695162904d40d40b9'},\n",
       " {'description': 'Daily news headlines of Washington Times Technology',\n",
       "  'features': ['headline', 'publisher', 'timestamp', 'title', 'url'],\n",
       "  'id_dataset': '5d8cb6ca95162904d40d407f',\n",
       "  'intersection': '39.0%',\n",
       "  'name': 'Washington Times Technology headlines',\n",
       "  'num_observations': 2554,\n",
       "  'url': 'https://www.openblender.io/#/dataset/explore/5d8cb6ca95162904d40d407f'},\n",
       " {'description': 'Daily news headlines of Irish Times Technology',\n",
       "  'features': ['headline', 'publisher', 'timestamp', 'title', 'url'],\n",
       "  'id_dataset': '5d8cc68e95162904d39b9b39',\n",
       "  'intersection': '39.11%',\n",
       "  'name': 'Irish Times Technology headlines',\n",
       "  'num_observations': 3809,\n",
       "  'url': 'https://www.openblender.io/#/dataset/explore/5d8cc68e95162904d39b9b39'},\n",
       " {'description': 'Daily news headlines of Scottish Sun Technology',\n",
       "  'features': ['headline', 'publisher', 'timestamp', 'title', 'url'],\n",
       "  'id_dataset': '5d884c369516294231c59662',\n",
       "  'intersection': '39.19%',\n",
       "  'name': 'Scottish Sun Technology headlines',\n",
       "  'num_observations': 5354,\n",
       "  'url': 'https://www.openblender.io/#/dataset/explore/5d884c369516294231c59662'},\n",
       " {'description': 'Daily news headlines of Time Technology',\n",
       "  'features': ['headline', 'publisher', 'timestamp', 'title', 'url'],\n",
       "  'id_dataset': '5d8849249516294231c5958f',\n",
       "  'intersection': '39.24%',\n",
       "  'name': 'Time Technology headlines',\n",
       "  'num_observations': 583,\n",
       "  'url': 'https://www.openblender.io/#/dataset/explore/5d8849249516294231c5958f'},\n",
       " {'description': 'Daily news headlines of Metro Technology',\n",
       "  'features': ['headline', 'publisher', 'timestamp', 'title', 'url'],\n",
       "  'id_dataset': '5d8849979516294231c595af',\n",
       "  'intersection': '39.24%',\n",
       "  'name': 'Metro Technology headlines',\n",
       "  'num_observations': 2573,\n",
       "  'url': 'https://www.openblender.io/#/dataset/explore/5d8849979516294231c595af'},\n",
       " {'description': 'Daily news headlines of Newslanes Technology',\n",
       "  'features': ['headline', 'publisher', 'timestamp', 'title', 'url'],\n",
       "  'id_dataset': '5d8848499516294231c59556',\n",
       "  'intersection': '39.26%',\n",
       "  'name': 'Newslanes Technology headlines',\n",
       "  'num_observations': 78,\n",
       "  'url': 'https://www.openblender.io/#/dataset/explore/5d8848499516294231c59556'},\n",
       " {'description': 'Daily news headlines of CBS Technology',\n",
       "  'features': ['headline', 'publisher', 'timestamp', 'title', 'url'],\n",
       "  'id_dataset': '5d865eb59516296ba7e6a3fd',\n",
       "  'intersection': '39.32%',\n",
       "  'name': 'CBS Technology headlines',\n",
       "  'num_observations': 669,\n",
       "  'url': 'https://www.openblender.io/#/dataset/explore/5d865eb59516296ba7e6a3fd'},\n",
       " {'description': 'Daily news headlines of Forbes Technology',\n",
       "  'features': ['headline', 'publisher', 'timestamp', 'title', 'url'],\n",
       "  'id_dataset': '5d88480f9516294231c59544',\n",
       "  'intersection': '39.33%',\n",
       "  'name': 'Forbes Technology headlines',\n",
       "  'num_observations': 1043,\n",
       "  'url': 'https://www.openblender.io/#/dataset/explore/5d88480f9516294231c59544'},\n",
       " {'description': 'Daily news headlines of Breaking News Central Technology',\n",
       "  'features': ['headline', 'publisher', 'timestamp', 'title', 'url'],\n",
       "  'id_dataset': '5d8698539516296ba66ec73b',\n",
       "  'intersection': '39.39%',\n",
       "  'name': 'Breaking News Central Technology headlines',\n",
       "  'num_observations': 2463,\n",
       "  'url': 'https://www.openblender.io/#/dataset/explore/5d8698539516296ba66ec73b'},\n",
       " {'description': 'Daily news headlines of CNBC Technology',\n",
       "  'features': ['headline', 'publisher', 'timestamp', 'title', 'url'],\n",
       "  'id_dataset': '5d82db7e951629088f08d14a',\n",
       "  'intersection': '39.4%',\n",
       "  'name': 'CNBC Technology headlines',\n",
       "  'num_observations': 2705,\n",
       "  'url': 'https://www.openblender.io/#/dataset/explore/5d82db7e951629088f08d14a'},\n",
       " {'description': 'Daily news headlines of ABC News  International Technology',\n",
       "  'features': ['headline', 'publisher', 'timestamp', 'title', 'url'],\n",
       "  'id_dataset': '5d7f92769516294be568af42',\n",
       "  'intersection': '39.79%',\n",
       "  'name': 'ABC News  International Technology headlines',\n",
       "  'num_observations': 5316,\n",
       "  'url': 'https://www.openblender.io/#/dataset/explore/5d7f92769516294be568af42'},\n",
       " {'description': 'Daily news headlines of Wired UK Technology',\n",
       "  'features': ['headline', 'publisher', 'timestamp', 'title', 'url'],\n",
       "  'id_dataset': '5d8849df9516294231c595bf',\n",
       "  'intersection': '40.08%',\n",
       "  'name': 'Wired UK Technology headlines',\n",
       "  'num_observations': 921,\n",
       "  'url': 'https://www.openblender.io/#/dataset/explore/5d8849df9516294231c595bf'},\n",
       " {'description': 'Daily news headlines of Standard Technology',\n",
       "  'features': ['headline', 'publisher', 'timestamp', 'title', 'url'],\n",
       "  'id_dataset': '5d884aa59516294230a04152',\n",
       "  'intersection': '40.36%',\n",
       "  'name': 'Standard Technology headlines',\n",
       "  'num_observations': 4751,\n",
       "  'url': 'https://www.openblender.io/#/dataset/explore/5d884aa59516294230a04152'},\n",
       " {'description': 'Daily news headlines of The Week Technology',\n",
       "  'features': ['headline', 'publisher', 'timestamp', 'title', 'url'],\n",
       "  'id_dataset': '5d884c719516294231c5966d',\n",
       "  'intersection': '40.4%',\n",
       "  'name': 'The Week Technology headlines',\n",
       "  'num_observations': 1402,\n",
       "  'url': 'https://www.openblender.io/#/dataset/explore/5d884c719516294231c5966d'},\n",
       " {'description': 'Daily news headlines of AVJ News Technology',\n",
       "  'features': ['headline', 'publisher', 'timestamp', 'title', 'url'],\n",
       "  'id_dataset': '5d8cc3d495162904d39b9ae7',\n",
       "  'intersection': '41.0%',\n",
       "  'name': 'AVJ News Technology headlines',\n",
       "  'num_observations': 41,\n",
       "  'url': 'https://www.openblender.io/#/dataset/explore/5d8cc3d495162904d39b9ae7'},\n",
       " {'description': 'Washington Post Science and Technology News daily headlines',\n",
       "  'features': ['headline', 'publisher', 'timestamp', 'title', 'url'],\n",
       "  'id_dataset': '5d571a719516293a12ad4f4b',\n",
       "  'intersection': '41.29%',\n",
       "  'name': 'Washington Post Science and Technology News',\n",
       "  'num_observations': 891,\n",
       "  'url': 'https://www.openblender.io/#/dataset/explore/5d571a719516293a12ad4f4b'},\n",
       " {'description': 'the Guardian Science and Technology News daily headlines',\n",
       "  'features': ['headline', 'publisher', 'timestamp', 'title', 'url'],\n",
       "  'id_dataset': '5d5aacc29516296e5749de5b',\n",
       "  'intersection': '41.29%',\n",
       "  'name': 'the Guardian Science and Technology News',\n",
       "  'num_observations': 6537,\n",
       "  'url': 'https://www.openblender.io/#/dataset/explore/5d5aacc29516296e5749de5b'},\n",
       " {'description': 'Vox Science and Health News daily headlines',\n",
       "  'features': ['headline', 'publisher', 'timestamp', 'title', 'url'],\n",
       "  'id_dataset': '5d5ab4ec9516296e5749de87',\n",
       "  'intersection': '41.38%',\n",
       "  'name': 'Vox Science and Technology News',\n",
       "  'num_observations': 941,\n",
       "  'url': 'https://www.openblender.io/#/dataset/explore/5d5ab4ec9516296e5749de87'},\n",
       " {'description': 'Reuters Technology News daily headlines',\n",
       "  'features': ['headline', 'publisher', 'timestamp', 'title', 'url'],\n",
       "  'id_dataset': '5d5718ef9516293a12ad4f47',\n",
       "  'intersection': '41.42%',\n",
       "  'name': 'Reuters Technology News',\n",
       "  'num_observations': 4456,\n",
       "  'url': 'https://www.openblender.io/#/dataset/explore/5d5718ef9516293a12ad4f47'},\n",
       " {'description': 'Vox Technology News daily headlines',\n",
       "  'features': ['headline', 'publisher', 'timestamp', 'title', 'url'],\n",
       "  'id_dataset': '5d5ab5a59516296e5749de97',\n",
       "  'intersection': '41.45%',\n",
       "  'name': 'Vox Technology News',\n",
       "  'num_observations': 280,\n",
       "  'url': 'https://www.openblender.io/#/dataset/explore/5d5ab5a59516296e5749de97'},\n",
       " {'description': 'Breitbart Science and Technology News daily headlines',\n",
       "  'features': ['headline', 'publisher', 'timestamp', 'title', 'url'],\n",
       "  'id_dataset': '5d57169c9516293a12ad4f34',\n",
       "  'intersection': '41.47%',\n",
       "  'name': 'Breitbart Science and Technology News',\n",
       "  'num_observations': 4263,\n",
       "  'url': 'https://www.openblender.io/#/dataset/explore/5d57169c9516293a12ad4f34'},\n",
       " {'description': 'Fox News Technology News daily headlines\\n',\n",
       "  'features': ['timestamp', 'headline', 'publisher', 'title', 'url'],\n",
       "  'id_dataset': '5d5c35df95162914a749ffb6',\n",
       "  'intersection': '41.75%',\n",
       "  'name': 'Fox News Technology News',\n",
       "  'num_observations': 5412,\n",
       "  'url': 'https://www.openblender.io/#/dataset/explore/5d5c35df95162914a749ffb6'},\n",
       " {'description': 'Fox News Science News daily headlines',\n",
       "  'features': ['headline', 'publisher', 'timestamp', 'title', 'url'],\n",
       "  'id_dataset': '5d571f499516293a12ad4f69',\n",
       "  'intersection': '41.75%',\n",
       "  'name': 'Fox News Science News',\n",
       "  'num_observations': 6538,\n",
       "  'url': 'https://www.openblender.io/#/dataset/explore/5d571f499516293a12ad4f69'},\n",
       " {'description': 'New York Times Entertainment News daily headlines',\n",
       "  'features': ['headline', 'publisher', 'timestamp', 'title', 'url'],\n",
       "  'id_dataset': '5d5aae7f9516296e5749de61',\n",
       "  'intersection': '42.06%',\n",
       "  'name': 'New York Times Technology News',\n",
       "  'num_observations': 1121,\n",
       "  'url': 'https://www.openblender.io/#/dataset/explore/5d5aae7f9516296e5749de61'},\n",
       " {'description': 'New York Times Science News daily headlines',\n",
       "  'features': ['headline', 'publisher', 'timestamp', 'title', 'url'],\n",
       "  'id_dataset': '5d5aaec89516296e5749de62',\n",
       "  'intersection': '42.06%',\n",
       "  'name': 'NY Times Science News',\n",
       "  'num_observations': 489,\n",
       "  'url': 'https://www.openblender.io/#/dataset/explore/5d5aaec89516296e5749de62'},\n",
       " {'description': 'Buzzfeed News Technology News daily headlines',\n",
       "  'features': ['headline', 'publisher', 'timestamp', 'title', 'url'],\n",
       "  'id_dataset': '5d5ab6b89516296e58c5b80f',\n",
       "  'intersection': '42.56%',\n",
       "  'name': 'Buzzfeed News Technology News',\n",
       "  'num_observations': 4085,\n",
       "  'url': 'https://www.openblender.io/#/dataset/explore/5d5ab6b89516296e58c5b80f'},\n",
       " {'description': 'Reuters Science and Technology News daily headlines',\n",
       "  'features': ['headline', 'publisher', 'timestamp', 'title', 'url'],\n",
       "  'id_dataset': '5d5717e29516293a13832034',\n",
       "  'intersection': '43.03%',\n",
       "  'name': 'Reuters Science and Technology News',\n",
       "  'num_observations': 1421,\n",
       "  'url': 'https://www.openblender.io/#/dataset/explore/5d5717e29516293a13832034'},\n",
       " {'description': 'the Atlantic Science News daily headlines',\n",
       "  'features': ['headline', 'publisher', 'timestamp', 'title', 'url'],\n",
       "  'id_dataset': '5d571cb39516293a12ad4f65',\n",
       "  'intersection': '43.48%',\n",
       "  'name': 'the Atlantic Science News',\n",
       "  'num_observations': 166,\n",
       "  'url': 'https://www.openblender.io/#/dataset/explore/5d571cb39516293a12ad4f65'},\n",
       " {'description': 'Daily news headlines of Cision Technology',\n",
       "  'features': ['headline', 'publisher', 'timestamp', 'title', 'url'],\n",
       "  'id_dataset': '5d865f049516296ba7e6a40c',\n",
       "  'intersection': '43.73%',\n",
       "  'name': 'Cision Technology headlines',\n",
       "  'num_observations': 305,\n",
       "  'url': 'https://www.openblender.io/#/dataset/explore/5d865f049516296ba7e6a40c'},\n",
       " {'description': 'Talking Points Memo News daily headlines',\n",
       "  'features': ['headline', 'publisher', 'timestamp', 'title', 'url'],\n",
       "  'id_dataset': '5d5719509516293a12ad4f48',\n",
       "  'intersection': '44.13%',\n",
       "  'name': 'Talking Points Memo News',\n",
       "  'num_observations': 3201,\n",
       "  'url': 'https://www.openblender.io/#/dataset/explore/5d5719509516293a12ad4f48'},\n",
       " {'description': 'Daily news headlines of The Conversation Technology',\n",
       "  'features': ['headline', 'publisher', 'timestamp', 'title', 'url'],\n",
       "  'id_dataset': '5d884a5d9516294231c595d6',\n",
       "  'intersection': '46.43%',\n",
       "  'name': 'The Conversation Technology headlines',\n",
       "  'num_observations': 681,\n",
       "  'url': 'https://www.openblender.io/#/dataset/explore/5d884a5d9516294231c595d6'},\n",
       " {'description': 'Daily news headlines of Worldweeklynews Technology',\n",
       "  'features': ['headline', 'publisher', 'timestamp', 'title', 'url'],\n",
       "  'id_dataset': '5d8848ae9516294231c59570',\n",
       "  'intersection': '47.4%',\n",
       "  'name': 'Worldweeklynews Technology headlines',\n",
       "  'num_observations': 478,\n",
       "  'url': 'https://www.openblender.io/#/dataset/explore/5d8848ae9516294231c59570'},\n",
       " {'description': 'Daily news headlines of Pink News Technology',\n",
       "  'features': ['headline', 'publisher', 'timestamp', 'title', 'url'],\n",
       "  'id_dataset': '5d884a159516294231c595c8',\n",
       "  'intersection': '48.54%',\n",
       "  'name': 'Pink News Technology headlines',\n",
       "  'num_observations': 1040,\n",
       "  'url': 'https://www.openblender.io/#/dataset/explore/5d884a159516294231c595c8'},\n",
       " {'description': 'Daily news headlines of CBC Technology',\n",
       "  'features': ['headline', 'publisher', 'timestamp', 'title', 'url'],\n",
       "  'id_dataset': '5d865e5e9516296ba7e6a3ea',\n",
       "  'intersection': '49.7%',\n",
       "  'name': 'CBC Technology headlines',\n",
       "  'num_observations': 1387,\n",
       "  'url': 'https://www.openblender.io/#/dataset/explore/5d865e5e9516296ba7e6a3ea'},\n",
       " {'description': 'Daily news headlines of News Blaze Technology',\n",
       "  'features': ['headline', 'publisher', 'timestamp', 'title', 'url'],\n",
       "  'id_dataset': '5d8cc13f95162904d39b9a96',\n",
       "  'intersection': '51.97%',\n",
       "  'name': 'News Blaze Technology headlines',\n",
       "  'num_observations': 1123,\n",
       "  'url': 'https://www.openblender.io/#/dataset/explore/5d8cc13f95162904d39b9a96'},\n",
       " {'description': 'Daily news headlines of News Zetu Technology',\n",
       "  'features': ['headline', 'publisher', 'timestamp', 'title', 'url'],\n",
       "  'id_dataset': '5d865ff89516296ba66ec405',\n",
       "  'intersection': '52.65%',\n",
       "  'name': 'News Zetu Technology headlines',\n",
       "  'num_observations': 1449,\n",
       "  'url': 'https://www.openblender.io/#/dataset/explore/5d865ff89516296ba66ec405'},\n",
       " {'description': 'Daily news headlines of The Cipher Brief Technology',\n",
       "  'features': ['headline', 'publisher', 'timestamp', 'title', 'url'],\n",
       "  'id_dataset': '5d824a3f951629088f08cf07',\n",
       "  'intersection': '62.06%',\n",
       "  'name': 'The Cipher Brief Technology headlines',\n",
       "  'num_observations': 631,\n",
       "  'url': 'https://www.openblender.io/#/dataset/explore/5d824a3f951629088f08cf07'},\n",
       " {'description': 'Daily news headlines of Channel 4 Technology',\n",
       "  'features': ['headline', 'publisher', 'timestamp', 'title', 'url'],\n",
       "  'id_dataset': '5d8cc62a95162904d39b9b2d',\n",
       "  'intersection': '72.81%',\n",
       "  'name': 'Channel 4 Technology headlines',\n",
       "  'num_observations': 754,\n",
       "  'url': 'https://www.openblender.io/#/dataset/explore/5d8cc62a95162904d39b9b2d'}]"
      ]
     },
     "execution_count": 141,
     "metadata": {
      "tags": []
     },
     "output_type": "execute_result"
    }
   ],
   "source": [
    "# Now, let's search on OpenBlender\n",
    "search_keyword = 'technology'\n",
    "df = df.sort_values('timestamp').reset_index(drop = True)\n",
    "print('From : ' + OpenBlender.unixToDate(min(data.timestamp)))\n",
    "print('Until: ' + OpenBlender.unixToDate(max(data.timestamp)))\n",
    "# Pass timestamp column and search keywords as parameters\n",
    "OpenBlender.searchTimeBlends(OpenBlender_api_token, data.timestamp, search_keyword)"
   ]
  },
  {
   "cell_type": "code",
   "execution_count": null,
   "metadata": {
    "id": "fbdI68VGZ5FT"
   },
   "outputs": [],
   "source": [
    "id_list = ['5d5ab15c9516296e5749de7a',# Buissness insider Technology news\n",
    "           ]"
   ]
  },
  {
   "cell_type": "code",
   "execution_count": null,
   "metadata": {
    "id": "_waSmdg1Odut"
   },
   "outputs": [],
   "source": [
    "action = 'API_getObservationsFromDataset'\n",
    "\n",
    "parameters = {\n",
    "        'token':OpenBlender_api_token,\n",
    "        'id_dataset': '5d5ab15c9516296e5749de7a',\n",
    "        # 'date_filter': {'start_date': '2020-08-17','end_date': '2020-08-20'},\n",
    "        'drop_features': ['url','publisher']\n",
    "      }"
   ]
  },
  {
   "cell_type": "code",
   "execution_count": null,
   "metadata": {
    "colab": {
     "base_uri": "https://localhost:8080/"
    },
    "executionInfo": {
     "elapsed": 55484,
     "status": "ok",
     "timestamp": 1613571226864,
     "user": {
      "displayName": "abhijith bhuvandas",
      "photoUrl": "",
      "userId": "17758300446863295043"
     },
     "user_tz": -330
    },
    "id": "eTHp56yCP7BR",
    "outputId": "3b30dcb8-c401-4965-dcfa-ab239ca973a7"
   },
   "outputs": [
    {
     "name": "stdout",
     "output_type": "stream",
     "text": [
      "Task ID: '602d24640895fafb4a9d8d4b'.\n",
      "Total estimated consumption: 500.6 processing units.\n",
      "Task confirmed. Starting download..\n",
      "3.45 %\n",
      "6.9 %\n",
      "10.34 %\n",
      "13.79 %\n",
      "17.24 %\n",
      "20.69 %\n",
      "24.14 %\n",
      "27.59 %\n",
      "31.03 %\n",
      "34.48 %\n",
      "37.93 %\n",
      "41.38 %\n",
      "44.83 %\n",
      "48.28 %\n",
      "51.72 %\n",
      "55.17 %\n",
      "58.62 %\n",
      "62.07 %\n",
      "65.52 %\n",
      "68.97 %\n",
      "72.41 %\n",
      "75.86 %\n",
      "79.31 %\n",
      "82.76 %\n",
      "86.21 %\n",
      "89.66 %\n",
      "93.1 %\n",
      "96.55 %\n",
      "100.0 % completed.\n"
     ]
    }
   ],
   "source": [
    "response = OpenBlender.call(action, parameters)"
   ]
  },
  {
   "cell_type": "code",
   "execution_count": null,
   "metadata": {
    "colab": {
     "base_uri": "https://localhost:8080/",
     "height": 206
    },
    "executionInfo": {
     "elapsed": 1354,
     "status": "ok",
     "timestamp": 1613571288599,
     "user": {
      "displayName": "abhijith bhuvandas",
      "photoUrl": "",
      "userId": "17758300446863295043"
     },
     "user_tz": -330
    },
    "id": "xdy6Yh5ORI4q",
    "outputId": "cedb8a9a-ba05-4f2b-f68d-68f8a130acf5"
   },
   "outputs": [
    {
     "data": {
      "text/html": [
       "<div>\n",
       "<style scoped>\n",
       "    .dataframe tbody tr th:only-of-type {\n",
       "        vertical-align: middle;\n",
       "    }\n",
       "\n",
       "    .dataframe tbody tr th {\n",
       "        vertical-align: top;\n",
       "    }\n",
       "\n",
       "    .dataframe thead th {\n",
       "        text-align: right;\n",
       "    }\n",
       "</style>\n",
       "<table border=\"1\" class=\"dataframe\">\n",
       "  <thead>\n",
       "    <tr style=\"text-align: right;\">\n",
       "      <th></th>\n",
       "      <th>headline</th>\n",
       "      <th>timestamp</th>\n",
       "      <th>title</th>\n",
       "    </tr>\n",
       "  </thead>\n",
       "  <tbody>\n",
       "    <tr>\n",
       "      <th>0</th>\n",
       "      <td>The firm has thus far inked Showcase deals wit...</td>\n",
       "      <td>2021-02-17 11:53:59</td>\n",
       "      <td>Google is reportedly close to a $30 million an...</td>\n",
       "    </tr>\n",
       "    <tr>\n",
       "      <th>1</th>\n",
       "      <td>TikTok breaches consumer rights by misleading ...</td>\n",
       "      <td>2021-02-17 11:26:50</td>\n",
       "      <td>TikTok breaches users' rights and fails to pro...</td>\n",
       "    </tr>\n",
       "    <tr>\n",
       "      <th>2</th>\n",
       "      <td>\"Fortnite\" developer Epic Games said in an EU ...</td>\n",
       "      <td>2021-02-17 10:27:04</td>\n",
       "      <td>'Fortnite' maker Epic Games is taking its war ...</td>\n",
       "    </tr>\n",
       "    <tr>\n",
       "      <th>3</th>\n",
       "      <td>Jeff Bezos. Drew Angerer/Getty Images  Jeff Be...</td>\n",
       "      <td>2021-02-17 10:12:02</td>\n",
       "      <td>Jeff Bezos has taken back the title of the wor...</td>\n",
       "    </tr>\n",
       "    <tr>\n",
       "      <th>4</th>\n",
       "      <td></td>\n",
       "      <td>2021-02-17 08:03:22</td>\n",
       "      <td>10 things in tech you need to know today</td>\n",
       "    </tr>\n",
       "  </tbody>\n",
       "</table>\n",
       "</div>"
      ],
      "text/plain": [
       "                                            headline  ...                                              title\n",
       "0  The firm has thus far inked Showcase deals wit...  ...  Google is reportedly close to a $30 million an...\n",
       "1  TikTok breaches consumer rights by misleading ...  ...  TikTok breaches users' rights and fails to pro...\n",
       "2  \"Fortnite\" developer Epic Games said in an EU ...  ...  'Fortnite' maker Epic Games is taking its war ...\n",
       "3  Jeff Bezos. Drew Angerer/Getty Images  Jeff Be...  ...  Jeff Bezos has taken back the title of the wor...\n",
       "4                                                     ...           10 things in tech you need to know today\n",
       "\n",
       "[5 rows x 3 columns]"
      ]
     },
     "execution_count": 20,
     "metadata": {
      "tags": []
     },
     "output_type": "execute_result"
    }
   ],
   "source": [
    "df = pd.read_json(json.dumps(response['sample'])\n",
    "                  ,convert_dates=True,\n",
    "                  convert_axes=False)\n",
    "df.sort_values('timestamp', ascending=False)\n",
    "df.head()"
   ]
  },
  {
   "cell_type": "code",
   "execution_count": null,
   "metadata": {
    "colab": {
     "base_uri": "https://localhost:8080/"
    },
    "executionInfo": {
     "elapsed": 1176,
     "status": "ok",
     "timestamp": 1613571311974,
     "user": {
      "displayName": "abhijith bhuvandas",
      "photoUrl": "",
      "userId": "17758300446863295043"
     },
     "user_tz": -330
    },
    "id": "W9pKnZdaRYPE",
    "outputId": "c14e7e90-9941-4011-e56c-97f864e55832"
   },
   "outputs": [
    {
     "data": {
      "text/plain": [
       "(8610, 3)"
      ]
     },
     "execution_count": 22,
     "metadata": {
      "tags": []
     },
     "output_type": "execute_result"
    }
   ],
   "source": [
    "df.shape"
   ]
  },
  {
   "cell_type": "code",
   "execution_count": null,
   "metadata": {
    "colab": {
     "base_uri": "https://localhost:8080/"
    },
    "executionInfo": {
     "elapsed": 1243,
     "status": "ok",
     "timestamp": 1613571757972,
     "user": {
      "displayName": "abhijith bhuvandas",
      "photoUrl": "",
      "userId": "17758300446863295043"
     },
     "user_tz": -330
    },
    "id": "E6PrckG4Wi0M",
    "outputId": "455c9cc6-a566-476a-c14c-afc322ad9e91"
   },
   "outputs": [
    {
     "data": {
      "text/plain": [
       "(27, 3)"
      ]
     },
     "execution_count": 27,
     "metadata": {
      "tags": []
     },
     "output_type": "execute_result"
    }
   ],
   "source": [
    "df[df['title'].str.contains(\"bitcoin|Bitcoin\")].shape"
   ]
  },
  {
   "cell_type": "markdown",
   "metadata": {
    "id": "eT1oVeMQNxhb"
   },
   "source": [
    "action = 'API_createTextVectorizer'\n",
    " # Buissness insider id: 60195cdc951629710cbdba95f8RXtKeDpukuavetT1zyFlCtr86NKI\n",
    "vectorizer_parameters = {\n",
    "    'token' : OpenBlender_api_token,\n",
    "    'name' : 'News Headlines',\n",
    "    'anchor':{'id_dataset' : '5d5ab15c9516296e5749de7a', 'include_features' : ['title']},\n",
    "    'ngram_range' : {'min' : 1, 'max' : 2},\n",
    "    'language' : 'en',\n",
    "    'remove_stop_words' : 'on',\n",
    "    'min_count_limit' : 2\n",
    "}"
   ]
  },
  {
   "cell_type": "markdown",
   "metadata": {
    "id": "HxzMkiIhNxhc"
   },
   "source": [
    "parameters = { \n",
    "   'token': OpenBlender_api_token ,\n",
    "   'id_dataset':'5d5ab15c9516296e5749de7a',\n",
    "   'target_threshold' : {'feature':'change','success_thr_over':0},\n",
    "   'lag_target_feature' : {'feature':'change_over_0', 'periods':1},\n",
    "   'blends':[{'id_blend':'5de020789516293a833f5818',\n",
    "               'blend_type' : 'text_ts',\n",
    "               'restriction' : 'predictive',\n",
    "               'blend_class' : 'closest_observation', \n",
    "               'specifications':{'time_interval_size' : 3600*12 }}],\n",
    "   'date_filter':{'start_date':'2017-08-20T16:59:35.825Z',\n",
    "                   'end_date':'2021-02-2T17:59:35.825Z'},\n",
    "   'drop_non_numeric' : 1\n",
    "}"
   ]
  },
  {
   "cell_type": "markdown",
   "metadata": {
    "id": "rqXo8R8qNxhc"
   },
   "source": [
    "def pullObservationsToDF(parameters):\n",
    "    action = 'API_getObservationsFromDataset'\n",
    "    df = pd.read_json(json.dumps(OpenBlender.call(action,parameters)['sample'])\n",
    "                    ,convert_dates=False,convert_axes=False).sort_values('timestamp', ascending=False)\n",
    "    df.reset_index(drop=True, inplace=True)\n",
    "    return df\n",
    "df = pullObservationsToDF(parameters)"
   ]
  }
 ],
 "metadata": {
  "colab": {
   "collapsed_sections": [],
   "name": "Bitcoin news.ipynb",
   "provenance": []
  },
  "kernelspec": {
   "display_name": "Python 3",
   "language": "python",
   "name": "python3"
  },
  "language_info": {
   "codemirror_mode": {
    "name": "ipython",
    "version": 3
   },
   "file_extension": ".py",
   "mimetype": "text/x-python",
   "name": "python",
   "nbconvert_exporter": "python",
   "pygments_lexer": "ipython3",
   "version": "3.7.10"
  }
 },
 "nbformat": 4,
 "nbformat_minor": 1
}
