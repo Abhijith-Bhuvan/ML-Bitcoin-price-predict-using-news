{
 "cells": [
  {
   "cell_type": "code",
   "execution_count": 1,
   "metadata": {},
   "outputs": [],
   "source": [
    "import Access_Keys"
   ]
  },
  {
   "cell_type": "code",
   "execution_count": 2,
   "metadata": {
    "id": "DCWfAAhJNxhG"
   },
   "outputs": [],
   "source": [
    "URL = 'http://www.cryptodatadownload.com/cdd/Binance_BTCUSDT_d.csv'"
   ]
  },
  {
   "cell_type": "code",
   "execution_count": 3,
   "metadata": {
    "id": "zFPAiknfNxhT",
    "outputId": "6fe0fc45-2742-4c22-f9a4-19b128ae655a"
   },
   "outputs": [
    {
     "data": {
      "text/plain": [
       "('Binance_BTCUSDT_d.csv', <http.client.HTTPMessage at 0x175463e7f88>)"
      ]
     },
     "execution_count": 3,
     "metadata": {},
     "output_type": "execute_result"
    }
   ],
   "source": [
    "from urllib.request import urlretrieve\n",
    "urlretrieve(URL, 'Binance_BTCUSDT_d.csv')"
   ]
  },
  {
   "cell_type": "code",
   "execution_count": 4,
   "metadata": {
    "id": "0uR_vFXPNxhW"
   },
   "outputs": [],
   "source": [
    "import pandas as pd\n",
    "import numpy as np"
   ]
  },
  {
   "cell_type": "code",
   "execution_count": 5,
   "metadata": {
    "colab": {
     "base_uri": "https://localhost:8080/",
     "height": 206
    },
    "executionInfo": {
     "elapsed": 1121,
     "status": "ok",
     "timestamp": 1613575248156,
     "user": {
      "displayName": "abhijith bhuvandas",
      "photoUrl": "",
      "userId": "17758300446863295043"
     },
     "user_tz": -330
    },
    "id": "3Ax7-KyINxhX",
    "outputId": "28e86de9-62d8-4253-f466-bc292835ed75"
   },
   "outputs": [
    {
     "data": {
      "text/html": [
       "<div>\n",
       "<style scoped>\n",
       "    .dataframe tbody tr th:only-of-type {\n",
       "        vertical-align: middle;\n",
       "    }\n",
       "\n",
       "    .dataframe tbody tr th {\n",
       "        vertical-align: top;\n",
       "    }\n",
       "\n",
       "    .dataframe thead th {\n",
       "        text-align: right;\n",
       "    }\n",
       "</style>\n",
       "<table border=\"1\" class=\"dataframe\">\n",
       "  <thead>\n",
       "    <tr style=\"text-align: right;\">\n",
       "      <th></th>\n",
       "      <th>date</th>\n",
       "      <th>open</th>\n",
       "      <th>high</th>\n",
       "      <th>low</th>\n",
       "      <th>close</th>\n",
       "    </tr>\n",
       "  </thead>\n",
       "  <tbody>\n",
       "    <tr>\n",
       "      <th>0</th>\n",
       "      <td>2021-05-01 00:00:00</td>\n",
       "      <td>57697.25</td>\n",
       "      <td>57731.22</td>\n",
       "      <td>57421.05</td>\n",
       "      <td>57731.21</td>\n",
       "    </tr>\n",
       "    <tr>\n",
       "      <th>1</th>\n",
       "      <td>2021-04-30 00:00:00</td>\n",
       "      <td>53555.00</td>\n",
       "      <td>57963.00</td>\n",
       "      <td>53013.01</td>\n",
       "      <td>57694.27</td>\n",
       "    </tr>\n",
       "    <tr>\n",
       "      <th>2</th>\n",
       "      <td>2021-04-29 00:00:00</td>\n",
       "      <td>54846.23</td>\n",
       "      <td>55195.84</td>\n",
       "      <td>52330.94</td>\n",
       "      <td>53555.00</td>\n",
       "    </tr>\n",
       "    <tr>\n",
       "      <th>3</th>\n",
       "      <td>2021-04-28 00:00:00</td>\n",
       "      <td>55011.97</td>\n",
       "      <td>56428.00</td>\n",
       "      <td>53813.16</td>\n",
       "      <td>54846.22</td>\n",
       "    </tr>\n",
       "    <tr>\n",
       "      <th>4</th>\n",
       "      <td>2021-04-27 00:00:00</td>\n",
       "      <td>54001.38</td>\n",
       "      <td>55460.00</td>\n",
       "      <td>53222.00</td>\n",
       "      <td>55011.97</td>\n",
       "    </tr>\n",
       "  </tbody>\n",
       "</table>\n",
       "</div>"
      ],
      "text/plain": [
       "                  date      open      high       low     close\n",
       "0  2021-05-01 00:00:00  57697.25  57731.22  57421.05  57731.21\n",
       "1  2021-04-30 00:00:00  53555.00  57963.00  53013.01  57694.27\n",
       "2  2021-04-29 00:00:00  54846.23  55195.84  52330.94  53555.00\n",
       "3  2021-04-28 00:00:00  55011.97  56428.00  53813.16  54846.22\n",
       "4  2021-04-27 00:00:00  54001.38  55460.00  53222.00  55011.97"
      ]
     },
     "execution_count": 5,
     "metadata": {},
     "output_type": "execute_result"
    }
   ],
   "source": [
    "data = pd.read_csv('Binance_BTCUSDT_d.csv',skiprows=1,parse_dates=False,usecols=['date','open','close','high','low'])\n",
    "data.head()"
   ]
  },
  {
   "cell_type": "code",
   "execution_count": 6,
   "metadata": {
    "colab": {
     "base_uri": "https://localhost:8080/",
     "height": 206
    },
    "executionInfo": {
     "elapsed": 1083,
     "status": "ok",
     "timestamp": 1613575203347,
     "user": {
      "displayName": "abhijith bhuvandas",
      "photoUrl": "",
      "userId": "17758300446863295043"
     },
     "user_tz": -330
    },
    "id": "Jpr7mX0zkLrL",
    "outputId": "1bc93478-8f54-46c7-d069-003bf20864ff"
   },
   "outputs": [
    {
     "data": {
      "text/html": [
       "<div>\n",
       "<style scoped>\n",
       "    .dataframe tbody tr th:only-of-type {\n",
       "        vertical-align: middle;\n",
       "    }\n",
       "\n",
       "    .dataframe tbody tr th {\n",
       "        vertical-align: top;\n",
       "    }\n",
       "\n",
       "    .dataframe thead th {\n",
       "        text-align: right;\n",
       "    }\n",
       "</style>\n",
       "<table border=\"1\" class=\"dataframe\">\n",
       "  <thead>\n",
       "    <tr style=\"text-align: right;\">\n",
       "      <th></th>\n",
       "      <th>date</th>\n",
       "      <th>open</th>\n",
       "      <th>high</th>\n",
       "      <th>low</th>\n",
       "      <th>close</th>\n",
       "    </tr>\n",
       "  </thead>\n",
       "  <tbody>\n",
       "    <tr>\n",
       "      <th>1350</th>\n",
       "      <td>2017-08-21</td>\n",
       "      <td>4086.29</td>\n",
       "      <td>4119.62</td>\n",
       "      <td>3911.79</td>\n",
       "      <td>4016.00</td>\n",
       "    </tr>\n",
       "    <tr>\n",
       "      <th>1351</th>\n",
       "      <td>2017-08-20</td>\n",
       "      <td>4139.98</td>\n",
       "      <td>4211.08</td>\n",
       "      <td>4032.62</td>\n",
       "      <td>4086.29</td>\n",
       "    </tr>\n",
       "    <tr>\n",
       "      <th>1352</th>\n",
       "      <td>2017-08-19</td>\n",
       "      <td>4108.37</td>\n",
       "      <td>4184.69</td>\n",
       "      <td>3850.00</td>\n",
       "      <td>4139.98</td>\n",
       "    </tr>\n",
       "    <tr>\n",
       "      <th>1353</th>\n",
       "      <td>2017-08-18</td>\n",
       "      <td>4285.08</td>\n",
       "      <td>4371.52</td>\n",
       "      <td>3938.77</td>\n",
       "      <td>4108.37</td>\n",
       "    </tr>\n",
       "    <tr>\n",
       "      <th>1354</th>\n",
       "      <td>2017-08-17</td>\n",
       "      <td>4469.93</td>\n",
       "      <td>4485.39</td>\n",
       "      <td>4200.74</td>\n",
       "      <td>4285.08</td>\n",
       "    </tr>\n",
       "  </tbody>\n",
       "</table>\n",
       "</div>"
      ],
      "text/plain": [
       "            date     open     high      low    close\n",
       "1350  2017-08-21  4086.29  4119.62  3911.79  4016.00\n",
       "1351  2017-08-20  4139.98  4211.08  4032.62  4086.29\n",
       "1352  2017-08-19  4108.37  4184.69  3850.00  4139.98\n",
       "1353  2017-08-18  4285.08  4371.52  3938.77  4108.37\n",
       "1354  2017-08-17  4469.93  4485.39  4200.74  4285.08"
      ]
     },
     "execution_count": 6,
     "metadata": {},
     "output_type": "execute_result"
    }
   ],
   "source": [
    "data.tail()"
   ]
  },
  {
   "cell_type": "code",
   "execution_count": 7,
   "metadata": {
    "colab": {
     "base_uri": "https://localhost:8080/"
    },
    "executionInfo": {
     "elapsed": 1335,
     "status": "ok",
     "timestamp": 1613575250170,
     "user": {
      "displayName": "abhijith bhuvandas",
      "photoUrl": "",
      "userId": "17758300446863295043"
     },
     "user_tz": -330
    },
    "id": "s85cOpKQg3bA",
    "outputId": "c675f62c-583e-4e29-ccb9-1413f0866942"
   },
   "outputs": [],
   "source": [
    "# len() = 19 for yyyy-mm-dd 00:00:00 format\n",
    "# len() = 10 for yyyy-mm-dd\n",
    "# add 00:00:00 to these to make it uniform\n",
    "\n",
    "replacement_indices = []\n",
    "for i in range(len(data['date'])):\n",
    "    if len(data['date'][i]) != 19:\n",
    "        if len(data['date'][i]) == 10:\n",
    "            replacement_indices.append(i)\n",
    "        else:\n",
    "            print(i) # Any unexpected lengths"
   ]
  },
  {
   "cell_type": "code",
   "execution_count": 8,
   "metadata": {
    "colab": {
     "base_uri": "https://localhost:8080/"
    },
    "executionInfo": {
     "elapsed": 1335,
     "status": "ok",
     "timestamp": 1613575250170,
     "user": {
      "displayName": "abhijith bhuvandas",
      "photoUrl": "",
      "userId": "17758300446863295043"
     },
     "user_tz": -330
    },
    "id": "s85cOpKQg3bA",
    "outputId": "c675f62c-583e-4e29-ccb9-1413f0866942"
   },
   "outputs": [],
   "source": [
    "# iloc uses integer indices only, so I use the index of 'date' coulmn, which is 0\n",
    "data.iloc[replacement_indices, 0] = data.iloc[replacement_indices, 0] + ' 00:00:00'"
   ]
  },
  {
   "cell_type": "code",
   "execution_count": 9,
   "metadata": {},
   "outputs": [
    {
     "data": {
      "text/html": [
       "<div>\n",
       "<style scoped>\n",
       "    .dataframe tbody tr th:only-of-type {\n",
       "        vertical-align: middle;\n",
       "    }\n",
       "\n",
       "    .dataframe tbody tr th {\n",
       "        vertical-align: top;\n",
       "    }\n",
       "\n",
       "    .dataframe thead th {\n",
       "        text-align: right;\n",
       "    }\n",
       "</style>\n",
       "<table border=\"1\" class=\"dataframe\">\n",
       "  <thead>\n",
       "    <tr style=\"text-align: right;\">\n",
       "      <th></th>\n",
       "      <th>date</th>\n",
       "      <th>open</th>\n",
       "      <th>high</th>\n",
       "      <th>low</th>\n",
       "      <th>close</th>\n",
       "    </tr>\n",
       "  </thead>\n",
       "  <tbody>\n",
       "    <tr>\n",
       "      <th>1350</th>\n",
       "      <td>2017-08-21 00:00:00</td>\n",
       "      <td>4086.29</td>\n",
       "      <td>4119.62</td>\n",
       "      <td>3911.79</td>\n",
       "      <td>4016.00</td>\n",
       "    </tr>\n",
       "    <tr>\n",
       "      <th>1351</th>\n",
       "      <td>2017-08-20 00:00:00</td>\n",
       "      <td>4139.98</td>\n",
       "      <td>4211.08</td>\n",
       "      <td>4032.62</td>\n",
       "      <td>4086.29</td>\n",
       "    </tr>\n",
       "    <tr>\n",
       "      <th>1352</th>\n",
       "      <td>2017-08-19 00:00:00</td>\n",
       "      <td>4108.37</td>\n",
       "      <td>4184.69</td>\n",
       "      <td>3850.00</td>\n",
       "      <td>4139.98</td>\n",
       "    </tr>\n",
       "    <tr>\n",
       "      <th>1353</th>\n",
       "      <td>2017-08-18 00:00:00</td>\n",
       "      <td>4285.08</td>\n",
       "      <td>4371.52</td>\n",
       "      <td>3938.77</td>\n",
       "      <td>4108.37</td>\n",
       "    </tr>\n",
       "    <tr>\n",
       "      <th>1354</th>\n",
       "      <td>2017-08-17 00:00:00</td>\n",
       "      <td>4469.93</td>\n",
       "      <td>4485.39</td>\n",
       "      <td>4200.74</td>\n",
       "      <td>4285.08</td>\n",
       "    </tr>\n",
       "  </tbody>\n",
       "</table>\n",
       "</div>"
      ],
      "text/plain": [
       "                     date     open     high      low    close\n",
       "1350  2017-08-21 00:00:00  4086.29  4119.62  3911.79  4016.00\n",
       "1351  2017-08-20 00:00:00  4139.98  4211.08  4032.62  4086.29\n",
       "1352  2017-08-19 00:00:00  4108.37  4184.69  3850.00  4139.98\n",
       "1353  2017-08-18 00:00:00  4285.08  4371.52  3938.77  4108.37\n",
       "1354  2017-08-17 00:00:00  4469.93  4485.39  4200.74  4285.08"
      ]
     },
     "execution_count": 9,
     "metadata": {},
     "output_type": "execute_result"
    }
   ],
   "source": [
    "data.tail()"
   ]
  },
  {
   "cell_type": "code",
   "execution_count": 10,
   "metadata": {
    "colab": {
     "base_uri": "https://localhost:8080/",
     "height": 35
    },
    "executionInfo": {
     "elapsed": 1409,
     "status": "ok",
     "timestamp": 1613575251990,
     "user": {
      "displayName": "abhijith bhuvandas",
      "photoUrl": "",
      "userId": "17758300446863295043"
     },
     "user_tz": -330
    },
    "id": "Kdzn-fxbkitS",
    "outputId": "c607fe84-5dca-41f0-9fe8-9682796ab86e"
   },
   "outputs": [
    {
     "data": {
      "text/plain": [
       "'2017-12-05 00:00:00'"
      ]
     },
     "execution_count": 10,
     "metadata": {},
     "output_type": "execute_result"
    }
   ],
   "source": [
    "data['date'][1244]"
   ]
  },
  {
   "cell_type": "code",
   "execution_count": null,
   "metadata": {
    "id": "pQyE9AsHfmdk"
   },
   "outputs": [],
   "source": [
    "#convert date to unix time to compare with openblender data\n",
    "data['timestamp'] = OpenBlender.dateToUnix(data['date'], \n",
    "                                           date_format = '%Y-%m-%d %H:%M:%S', \n",
    "                                           timezone = 'GMT')"
   ]
  },
  {
   "cell_type": "code",
   "execution_count": null,
   "metadata": {
    "colab": {
     "base_uri": "https://localhost:8080/"
    },
    "executionInfo": {
     "elapsed": 1179,
     "status": "ok",
     "timestamp": 1613575258754,
     "user": {
      "displayName": "abhijith bhuvandas",
      "photoUrl": "",
      "userId": "17758300446863295043"
     },
     "user_tz": -330
    },
    "id": "B7x3BHuiNxhY",
    "outputId": "52e29536-541a-48b2-f32c-afb7e783863b",
    "scrolled": true
   },
   "outputs": [],
   "source": [
    "data.dtypes"
   ]
  },
  {
   "cell_type": "code",
   "execution_count": null,
   "metadata": {
    "id": "gxRfNpofNxhZ",
    "outputId": "69b33a1f-dd79-4ba0-8a3c-274eb251622c"
   },
   "outputs": [],
   "source": [
    "data.plot(x='timestamp',y='low')"
   ]
  },
  {
   "cell_type": "markdown",
   "metadata": {
    "id": "WmelabTAOQ1b"
   },
   "source": [
    "%pip install OpenBlender --upgrade"
   ]
  },
  {
   "cell_type": "code",
   "execution_count": 11,
   "metadata": {
    "id": "a_88hKRlNxhZ"
   },
   "outputs": [],
   "source": [
    "# The following code is from https://towardsdatascience.com/what-moves-bitcoin-c06f7b46d2e4\n",
    "# with my user tokens\n",
    "\n",
    "import OpenBlender"
   ]
  },
  {
   "cell_type": "code",
   "execution_count": 12,
   "metadata": {
    "id": "cG-lCYr9Nxha"
   },
   "outputs": [],
   "source": [
    "import json"
   ]
  },
  {
   "cell_type": "code",
   "execution_count": 13,
   "metadata": {
    "colab": {
     "base_uri": "https://localhost:8080/"
    },
    "executionInfo": {
     "elapsed": 13252,
     "status": "ok",
     "timestamp": 1613575679465,
     "user": {
      "displayName": "abhijith bhuvandas",
      "photoUrl": "",
      "userId": "17758300446863295043"
     },
     "user_tz": -330
    },
    "id": "VhUn2AYWlm6K",
    "outputId": "bb077820-1a54-4c48-e34f-9fad5e3af3b9",
    "scrolled": true
   },
   "outputs": [],
   "source": [
    "OpenBlender_api_token = Access_Keys.OpenBlender_api_token;"
   ]
  },
  {
   "cell_type": "markdown",
   "metadata": {},
   "source": [
    "List of sources used (Both Headline and title were used):\n",
    "\n",
    "Daily news headlines of NDTV Technology\n",
    "\n",
    "Daily news headlines of Mirror Technology\n",
    "\n",
    "Daily news headlines of Daily Telegraph Technology\n",
    "\n",
    "Daily news headlines of ABC News  International Technology\n",
    "\n",
    "Daily news headlines of Standard Technology\n",
    "\n",
    "Fox News Technology News daily headlines"
   ]
  },
  {
   "cell_type": "code",
   "execution_count": 14,
   "metadata": {},
   "outputs": [],
   "source": [
    "# THe full list seems to be taking too long to process on the server side so a small dataset\n",
    "# with only NDTV Technology news was used. Both title and Headline\n",
    "Bitcoin_NDTV_1_ID = '608d77f19516291c661edd81'"
   ]
  },
  {
   "cell_type": "code",
   "execution_count": 15,
   "metadata": {},
   "outputs": [
    {
     "name": "stdout",
     "output_type": "stream",
     "text": [
      "Task ID: '608d7b6b0895fafb4a9d8d4d'.\n",
      "Total estimated consumption: 859.77 processing units.\n",
      "Task confirmed. Starting download..\n",
      "1.75 %\n",
      "3.51 %\n",
      "5.26 %\n",
      "7.02 %\n",
      "8.77 %\n",
      "10.53 %\n",
      "12.28 %\n",
      "14.04 %\n",
      "15.79 %\n",
      "17.54 %\n",
      "19.3 %\n",
      "21.05 %\n",
      "22.81 %\n",
      "24.56 %\n",
      "26.32 %\n",
      "28.07 %\n",
      "29.82 %\n",
      "31.58 %\n",
      "33.33 %\n",
      "35.09 %\n",
      "------------------------------------------------\n",
      "--Internal error. Please upgrade OpenBlender verison via Pip.--\n",
      "-----\n",
      "Warning: Some observations could not be processed.\n",
      "38.6 %\n",
      "40.35 %\n",
      "42.11 %\n",
      "43.86 %\n",
      "45.61 %\n",
      "47.37 %\n",
      "------------------------------------------------\n",
      "--Internal error. Please upgrade OpenBlender verison via Pip.--\n",
      "-----\n",
      "Warning: Some observations could not be processed.\n",
      "50.88 %\n",
      "52.63 %\n",
      "54.39 %\n",
      "56.14 %\n",
      "57.89 %\n",
      "59.65 %\n",
      "61.4 %\n",
      "63.16 %\n",
      "64.91 %\n",
      "66.67 %\n",
      "68.42 %\n",
      "70.18 %\n",
      "71.93 %\n",
      "73.68 %\n",
      "75.44 %\n",
      "77.19 %\n",
      "78.95 %\n",
      "80.7 %\n",
      "------------------------------------------------\n",
      "--Internal error. Please upgrade OpenBlender verison via Pip.--\n",
      "-----\n",
      "Warning: Some observations could not be processed.\n",
      "84.21 %\n",
      "85.96 %\n",
      "87.72 %\n",
      "89.47 %\n",
      "91.23 %\n",
      "92.98 %\n",
      "94.74 %\n",
      "96.49 %\n",
      "98.25 %\n",
      "100.0 % completed.\n"
     ]
    }
   ],
   "source": [
    "action = 'API_getDataWithVectorizer'\n",
    "parameters = {\n",
    "        'token': OpenBlender_api_token,\n",
    "        'id_textVectorizer':Bitcoin_NDTV_1_ID,\n",
    "        'aggregate_in_time_interval': {'time_interval_size': 86400},\n",
    "        'omit_vectorizer': 0,\n",
    "        'add_date': 'date'\n",
    "      }\n",
    "response = OpenBlender.call(action, parameters)"
   ]
  },
  {
   "cell_type": "code",
   "execution_count": 16,
   "metadata": {
    "scrolled": true
   },
   "outputs": [
    {
     "data": {
      "text/html": [
       "<div>\n",
       "<style scoped>\n",
       "    .dataframe tbody tr th:only-of-type {\n",
       "        vertical-align: middle;\n",
       "    }\n",
       "\n",
       "    .dataframe tbody tr th {\n",
       "        vertical-align: top;\n",
       "    }\n",
       "\n",
       "    .dataframe thead th {\n",
       "        text-align: right;\n",
       "    }\n",
       "</style>\n",
       "<table border=\"1\" class=\"dataframe\">\n",
       "  <thead>\n",
       "    <tr style=\"text-align: right;\">\n",
       "      <th></th>\n",
       "      <th>amazon india</th>\n",
       "      <th>dual rear</th>\n",
       "      <th>congress mwc 2020</th>\n",
       "      <th>dynamic</th>\n",
       "      <th>triple rear</th>\n",
       "      <th>design details</th>\n",
       "      <th>ces 2020</th>\n",
       "      <th>micom check</th>\n",
       "      <th>sleep</th>\n",
       "      <th>asian</th>\n",
       "      <th>...</th>\n",
       "      <th>updates bring</th>\n",
       "      <th>compete</th>\n",
       "      <th>4k</th>\n",
       "      <th>latest version</th>\n",
       "      <th>4g</th>\n",
       "      <th>tcl</th>\n",
       "      <th>augmented</th>\n",
       "      <th>expands</th>\n",
       "      <th>marvel cinematic universe</th>\n",
       "      <th>compromised</th>\n",
       "    </tr>\n",
       "  </thead>\n",
       "  <tbody>\n",
       "    <tr>\n",
       "      <th>0</th>\n",
       "      <td>0</td>\n",
       "      <td>0</td>\n",
       "      <td>0</td>\n",
       "      <td>0</td>\n",
       "      <td>0</td>\n",
       "      <td>0</td>\n",
       "      <td>0</td>\n",
       "      <td>0</td>\n",
       "      <td>0</td>\n",
       "      <td>0</td>\n",
       "      <td>...</td>\n",
       "      <td>0</td>\n",
       "      <td>0</td>\n",
       "      <td>0</td>\n",
       "      <td>0</td>\n",
       "      <td>0</td>\n",
       "      <td>0</td>\n",
       "      <td>0</td>\n",
       "      <td>0</td>\n",
       "      <td>0</td>\n",
       "      <td>0</td>\n",
       "    </tr>\n",
       "    <tr>\n",
       "      <th>1</th>\n",
       "      <td>0</td>\n",
       "      <td>0</td>\n",
       "      <td>0</td>\n",
       "      <td>0</td>\n",
       "      <td>2</td>\n",
       "      <td>0</td>\n",
       "      <td>0</td>\n",
       "      <td>0</td>\n",
       "      <td>0</td>\n",
       "      <td>0</td>\n",
       "      <td>...</td>\n",
       "      <td>0</td>\n",
       "      <td>0</td>\n",
       "      <td>1</td>\n",
       "      <td>0</td>\n",
       "      <td>0</td>\n",
       "      <td>0</td>\n",
       "      <td>0</td>\n",
       "      <td>0</td>\n",
       "      <td>0</td>\n",
       "      <td>0</td>\n",
       "    </tr>\n",
       "    <tr>\n",
       "      <th>2</th>\n",
       "      <td>0</td>\n",
       "      <td>0</td>\n",
       "      <td>0</td>\n",
       "      <td>0</td>\n",
       "      <td>0</td>\n",
       "      <td>0</td>\n",
       "      <td>0</td>\n",
       "      <td>0</td>\n",
       "      <td>0</td>\n",
       "      <td>0</td>\n",
       "      <td>...</td>\n",
       "      <td>0</td>\n",
       "      <td>0</td>\n",
       "      <td>0</td>\n",
       "      <td>0</td>\n",
       "      <td>0</td>\n",
       "      <td>0</td>\n",
       "      <td>0</td>\n",
       "      <td>0</td>\n",
       "      <td>1</td>\n",
       "      <td>0</td>\n",
       "    </tr>\n",
       "    <tr>\n",
       "      <th>3</th>\n",
       "      <td>0</td>\n",
       "      <td>0</td>\n",
       "      <td>0</td>\n",
       "      <td>0</td>\n",
       "      <td>2</td>\n",
       "      <td>0</td>\n",
       "      <td>0</td>\n",
       "      <td>0</td>\n",
       "      <td>0</td>\n",
       "      <td>0</td>\n",
       "      <td>...</td>\n",
       "      <td>0</td>\n",
       "      <td>0</td>\n",
       "      <td>0</td>\n",
       "      <td>0</td>\n",
       "      <td>0</td>\n",
       "      <td>0</td>\n",
       "      <td>0</td>\n",
       "      <td>0</td>\n",
       "      <td>0</td>\n",
       "      <td>0</td>\n",
       "    </tr>\n",
       "    <tr>\n",
       "      <th>4</th>\n",
       "      <td>0</td>\n",
       "      <td>0</td>\n",
       "      <td>0</td>\n",
       "      <td>0</td>\n",
       "      <td>1</td>\n",
       "      <td>0</td>\n",
       "      <td>0</td>\n",
       "      <td>0</td>\n",
       "      <td>0</td>\n",
       "      <td>0</td>\n",
       "      <td>...</td>\n",
       "      <td>0</td>\n",
       "      <td>0</td>\n",
       "      <td>0</td>\n",
       "      <td>0</td>\n",
       "      <td>0</td>\n",
       "      <td>0</td>\n",
       "      <td>1</td>\n",
       "      <td>0</td>\n",
       "      <td>0</td>\n",
       "      <td>0</td>\n",
       "    </tr>\n",
       "  </tbody>\n",
       "</table>\n",
       "<p>5 rows × 4928 columns</p>\n",
       "</div>"
      ],
      "text/plain": [
       "   amazon india  dual rear  congress mwc 2020  dynamic  triple rear  \\\n",
       "0             0          0                  0        0            0   \n",
       "1             0          0                  0        0            2   \n",
       "2             0          0                  0        0            0   \n",
       "3             0          0                  0        0            2   \n",
       "4             0          0                  0        0            1   \n",
       "\n",
       "   design details  ces 2020  micom check  sleep  asian  ...  updates bring  \\\n",
       "0               0         0            0      0      0  ...              0   \n",
       "1               0         0            0      0      0  ...              0   \n",
       "2               0         0            0      0      0  ...              0   \n",
       "3               0         0            0      0      0  ...              0   \n",
       "4               0         0            0      0      0  ...              0   \n",
       "\n",
       "   compete  4k  latest version  4g  tcl  augmented  expands  \\\n",
       "0        0   0               0   0    0          0        0   \n",
       "1        0   1               0   0    0          0        0   \n",
       "2        0   0               0   0    0          0        0   \n",
       "3        0   0               0   0    0          0        0   \n",
       "4        0   0               0   0    0          1        0   \n",
       "\n",
       "   marvel cinematic universe  compromised  \n",
       "0                          0            0  \n",
       "1                          0            0  \n",
       "2                          1            0  \n",
       "3                          0            0  \n",
       "4                          0            0  \n",
       "\n",
       "[5 rows x 4928 columns]"
      ]
     },
     "execution_count": 16,
     "metadata": {},
     "output_type": "execute_result"
    }
   ],
   "source": [
    "df = pd.read_json(json.dumps(response['sample'])\n",
    "                  ,convert_dates=True,\n",
    "                  convert_axes=False)\n",
    "df.sort_values('timestamp', ascending=False)\n",
    "df.head()"
   ]
  },
  {
   "cell_type": "code",
   "execution_count": 24,
   "metadata": {},
   "outputs": [],
   "source": [
    "# Save this to file so don't need to download each time\n",
    "df.to_csv('Bitcoin_NDTV_1.csv')"
   ]
  },
  {
   "cell_type": "code",
   "execution_count": 25,
   "metadata": {},
   "outputs": [
    {
     "data": {
      "text/html": [
       "<div>\n",
       "<style scoped>\n",
       "    .dataframe tbody tr th:only-of-type {\n",
       "        vertical-align: middle;\n",
       "    }\n",
       "\n",
       "    .dataframe tbody tr th {\n",
       "        vertical-align: top;\n",
       "    }\n",
       "\n",
       "    .dataframe thead th {\n",
       "        text-align: right;\n",
       "    }\n",
       "</style>\n",
       "<table border=\"1\" class=\"dataframe\">\n",
       "  <thead>\n",
       "    <tr style=\"text-align: right;\">\n",
       "      <th></th>\n",
       "      <th>amazon india</th>\n",
       "      <th>dual rear</th>\n",
       "      <th>congress mwc 2020</th>\n",
       "      <th>dynamic</th>\n",
       "      <th>triple rear</th>\n",
       "      <th>design details</th>\n",
       "      <th>ces 2020</th>\n",
       "      <th>micom check</th>\n",
       "      <th>sleep</th>\n",
       "      <th>asian</th>\n",
       "      <th>...</th>\n",
       "      <th>updates bring</th>\n",
       "      <th>compete</th>\n",
       "      <th>4k</th>\n",
       "      <th>latest version</th>\n",
       "      <th>4g</th>\n",
       "      <th>tcl</th>\n",
       "      <th>augmented</th>\n",
       "      <th>expands</th>\n",
       "      <th>marvel cinematic universe</th>\n",
       "      <th>compromised</th>\n",
       "    </tr>\n",
       "  </thead>\n",
       "  <tbody>\n",
       "    <tr>\n",
       "      <th>0</th>\n",
       "      <td>0</td>\n",
       "      <td>0</td>\n",
       "      <td>0</td>\n",
       "      <td>0</td>\n",
       "      <td>0</td>\n",
       "      <td>0</td>\n",
       "      <td>0</td>\n",
       "      <td>0</td>\n",
       "      <td>0</td>\n",
       "      <td>0</td>\n",
       "      <td>...</td>\n",
       "      <td>0</td>\n",
       "      <td>0</td>\n",
       "      <td>0</td>\n",
       "      <td>0</td>\n",
       "      <td>0</td>\n",
       "      <td>0</td>\n",
       "      <td>0</td>\n",
       "      <td>0</td>\n",
       "      <td>0</td>\n",
       "      <td>0</td>\n",
       "    </tr>\n",
       "    <tr>\n",
       "      <th>1</th>\n",
       "      <td>0</td>\n",
       "      <td>0</td>\n",
       "      <td>0</td>\n",
       "      <td>0</td>\n",
       "      <td>2</td>\n",
       "      <td>0</td>\n",
       "      <td>0</td>\n",
       "      <td>0</td>\n",
       "      <td>0</td>\n",
       "      <td>0</td>\n",
       "      <td>...</td>\n",
       "      <td>0</td>\n",
       "      <td>0</td>\n",
       "      <td>1</td>\n",
       "      <td>0</td>\n",
       "      <td>0</td>\n",
       "      <td>0</td>\n",
       "      <td>0</td>\n",
       "      <td>0</td>\n",
       "      <td>0</td>\n",
       "      <td>0</td>\n",
       "    </tr>\n",
       "    <tr>\n",
       "      <th>2</th>\n",
       "      <td>0</td>\n",
       "      <td>0</td>\n",
       "      <td>0</td>\n",
       "      <td>0</td>\n",
       "      <td>0</td>\n",
       "      <td>0</td>\n",
       "      <td>0</td>\n",
       "      <td>0</td>\n",
       "      <td>0</td>\n",
       "      <td>0</td>\n",
       "      <td>...</td>\n",
       "      <td>0</td>\n",
       "      <td>0</td>\n",
       "      <td>0</td>\n",
       "      <td>0</td>\n",
       "      <td>0</td>\n",
       "      <td>0</td>\n",
       "      <td>0</td>\n",
       "      <td>0</td>\n",
       "      <td>1</td>\n",
       "      <td>0</td>\n",
       "    </tr>\n",
       "    <tr>\n",
       "      <th>3</th>\n",
       "      <td>0</td>\n",
       "      <td>0</td>\n",
       "      <td>0</td>\n",
       "      <td>0</td>\n",
       "      <td>2</td>\n",
       "      <td>0</td>\n",
       "      <td>0</td>\n",
       "      <td>0</td>\n",
       "      <td>0</td>\n",
       "      <td>0</td>\n",
       "      <td>...</td>\n",
       "      <td>0</td>\n",
       "      <td>0</td>\n",
       "      <td>0</td>\n",
       "      <td>0</td>\n",
       "      <td>0</td>\n",
       "      <td>0</td>\n",
       "      <td>0</td>\n",
       "      <td>0</td>\n",
       "      <td>0</td>\n",
       "      <td>0</td>\n",
       "    </tr>\n",
       "    <tr>\n",
       "      <th>4</th>\n",
       "      <td>0</td>\n",
       "      <td>0</td>\n",
       "      <td>0</td>\n",
       "      <td>0</td>\n",
       "      <td>1</td>\n",
       "      <td>0</td>\n",
       "      <td>0</td>\n",
       "      <td>0</td>\n",
       "      <td>0</td>\n",
       "      <td>0</td>\n",
       "      <td>...</td>\n",
       "      <td>0</td>\n",
       "      <td>0</td>\n",
       "      <td>0</td>\n",
       "      <td>0</td>\n",
       "      <td>0</td>\n",
       "      <td>0</td>\n",
       "      <td>1</td>\n",
       "      <td>0</td>\n",
       "      <td>0</td>\n",
       "      <td>0</td>\n",
       "    </tr>\n",
       "  </tbody>\n",
       "</table>\n",
       "<p>5 rows × 4928 columns</p>\n",
       "</div>"
      ],
      "text/plain": [
       "   amazon india  dual rear  congress mwc 2020  dynamic  triple rear  \\\n",
       "0             0          0                  0        0            0   \n",
       "1             0          0                  0        0            2   \n",
       "2             0          0                  0        0            0   \n",
       "3             0          0                  0        0            2   \n",
       "4             0          0                  0        0            1   \n",
       "\n",
       "   design details  ces 2020  micom check  sleep  asian  ...  updates bring  \\\n",
       "0               0         0            0      0      0  ...              0   \n",
       "1               0         0            0      0      0  ...              0   \n",
       "2               0         0            0      0      0  ...              0   \n",
       "3               0         0            0      0      0  ...              0   \n",
       "4               0         0            0      0      0  ...              0   \n",
       "\n",
       "   compete  4k  latest version  4g  tcl  augmented  expands  \\\n",
       "0        0   0               0   0    0          0        0   \n",
       "1        0   1               0   0    0          0        0   \n",
       "2        0   0               0   0    0          0        0   \n",
       "3        0   0               0   0    0          0        0   \n",
       "4        0   0               0   0    0          1        0   \n",
       "\n",
       "   marvel cinematic universe  compromised  \n",
       "0                          0            0  \n",
       "1                          0            0  \n",
       "2                          1            0  \n",
       "3                          0            0  \n",
       "4                          0            0  \n",
       "\n",
       "[5 rows x 4928 columns]"
      ]
     },
     "execution_count": 25,
     "metadata": {},
     "output_type": "execute_result"
    }
   ],
   "source": [
    "# To read from saved file\n",
    "test = pd.read_csv('Bitcoin_NDTV_1.csv',index_col=0)\n",
    "test.head()"
   ]
  },
  {
   "cell_type": "code",
   "execution_count": null,
   "metadata": {},
   "outputs": [],
   "source": []
  },
  {
   "cell_type": "markdown",
   "metadata": {},
   "source": [
    "import getpass"
   ]
  },
  {
   "cell_type": "code",
   "execution_count": null,
   "metadata": {
    "colab": {
     "base_uri": "https://localhost:8080/"
    },
    "executionInfo": {
     "elapsed": 3231,
     "status": "ok",
     "timestamp": 1613575458636,
     "user": {
      "displayName": "abhijith bhuvandas",
      "photoUrl": "",
      "userId": "17758300446863295043"
     },
     "user_tz": -330
    },
    "id": "65RcW-IWlXep",
    "outputId": "962b609d-7f71-4e7d-bb07-6d119693658a"
   },
   "outputs": [],
   "source": [
    "# Now, let's search on OpenBlender\n",
    "search_keyword = 'technology'\n",
    "df = df.sort_values('timestamp').reset_index(drop = True)\n",
    "print('From : ' + OpenBlender.unixToDate(min(data.timestamp)))\n",
    "print('Until: ' + OpenBlender.unixToDate(max(data.timestamp)))\n",
    "# Pass timestamp column and search keywords as parameters\n",
    "OpenBlender.searchTimeBlends(OpenBlender_api_token, data.timestamp, search_keyword)"
   ]
  },
  {
   "cell_type": "code",
   "execution_count": null,
   "metadata": {
    "id": "fbdI68VGZ5FT"
   },
   "outputs": [],
   "source": [
    "id_list = ['5d5ab15c9516296e5749de7a',# Buissness insider Technology news\n",
    "           ]"
   ]
  },
  {
   "cell_type": "code",
   "execution_count": null,
   "metadata": {
    "id": "_waSmdg1Odut"
   },
   "outputs": [],
   "source": [
    "action = 'API_getObservationsFromDataset'\n",
    "\n",
    "parameters = {\n",
    "        'token':OpenBlender_api_token,\n",
    "        'id_dataset': '5d5ab15c9516296e5749de7a',\n",
    "        # 'date_filter': {'start_date': '2020-08-17','end_date': '2020-08-20'},\n",
    "        'drop_features': ['url','publisher']\n",
    "      }"
   ]
  },
  {
   "cell_type": "code",
   "execution_count": null,
   "metadata": {
    "colab": {
     "base_uri": "https://localhost:8080/"
    },
    "executionInfo": {
     "elapsed": 55484,
     "status": "ok",
     "timestamp": 1613571226864,
     "user": {
      "displayName": "abhijith bhuvandas",
      "photoUrl": "",
      "userId": "17758300446863295043"
     },
     "user_tz": -330
    },
    "id": "eTHp56yCP7BR",
    "outputId": "3b30dcb8-c401-4965-dcfa-ab239ca973a7"
   },
   "outputs": [],
   "source": [
    "response = OpenBlender.call(action, parameters)"
   ]
  },
  {
   "cell_type": "code",
   "execution_count": null,
   "metadata": {
    "colab": {
     "base_uri": "https://localhost:8080/",
     "height": 206
    },
    "executionInfo": {
     "elapsed": 1354,
     "status": "ok",
     "timestamp": 1613571288599,
     "user": {
      "displayName": "abhijith bhuvandas",
      "photoUrl": "",
      "userId": "17758300446863295043"
     },
     "user_tz": -330
    },
    "id": "xdy6Yh5ORI4q",
    "outputId": "cedb8a9a-ba05-4f2b-f68d-68f8a130acf5"
   },
   "outputs": [],
   "source": [
    "df = pd.read_json(json.dumps(response['sample'])\n",
    "                  ,convert_dates=True,\n",
    "                  convert_axes=False)\n",
    "df.sort_values('timestamp', ascending=False)\n",
    "df.head()"
   ]
  },
  {
   "cell_type": "code",
   "execution_count": null,
   "metadata": {
    "colab": {
     "base_uri": "https://localhost:8080/"
    },
    "executionInfo": {
     "elapsed": 1176,
     "status": "ok",
     "timestamp": 1613571311974,
     "user": {
      "displayName": "abhijith bhuvandas",
      "photoUrl": "",
      "userId": "17758300446863295043"
     },
     "user_tz": -330
    },
    "id": "W9pKnZdaRYPE",
    "outputId": "c14e7e90-9941-4011-e56c-97f864e55832"
   },
   "outputs": [],
   "source": [
    "df.shape"
   ]
  },
  {
   "cell_type": "code",
   "execution_count": null,
   "metadata": {
    "colab": {
     "base_uri": "https://localhost:8080/"
    },
    "executionInfo": {
     "elapsed": 1243,
     "status": "ok",
     "timestamp": 1613571757972,
     "user": {
      "displayName": "abhijith bhuvandas",
      "photoUrl": "",
      "userId": "17758300446863295043"
     },
     "user_tz": -330
    },
    "id": "E6PrckG4Wi0M",
    "outputId": "455c9cc6-a566-476a-c14c-afc322ad9e91"
   },
   "outputs": [],
   "source": [
    "df[df['title'].str.contains(\"bitcoin|Bitcoin\")].shape"
   ]
  },
  {
   "cell_type": "markdown",
   "metadata": {
    "id": "eT1oVeMQNxhb"
   },
   "source": [
    "action = 'API_createTextVectorizer'\n",
    " # Buissness insider id: 60195cdc951629710cbdba95f8RXtKeDpukuavetT1zyFlCtr86NKI\n",
    "vectorizer_parameters = {\n",
    "    'token' : OpenBlender_api_token,\n",
    "    'name' : 'News Headlines',\n",
    "    'anchor':{'id_dataset' : '5d5ab15c9516296e5749de7a', 'include_features' : ['title']},\n",
    "    'ngram_range' : {'min' : 1, 'max' : 2},\n",
    "    'language' : 'en',\n",
    "    'remove_stop_words' : 'on',\n",
    "    'min_count_limit' : 2\n",
    "}"
   ]
  },
  {
   "cell_type": "markdown",
   "metadata": {
    "id": "HxzMkiIhNxhc"
   },
   "source": [
    "parameters = { \n",
    "   'token': OpenBlender_api_token ,\n",
    "   'id_dataset':'5d5ab15c9516296e5749de7a',\n",
    "   'target_threshold' : {'feature':'change','success_thr_over':0},\n",
    "   'lag_target_feature' : {'feature':'change_over_0', 'periods':1},\n",
    "   'blends':[{'id_blend':'5de020789516293a833f5818',\n",
    "               'blend_type' : 'text_ts',\n",
    "               'restriction' : 'predictive',\n",
    "               'blend_class' : 'closest_observation', \n",
    "               'specifications':{'time_interval_size' : 3600*12 }}],\n",
    "   'date_filter':{'start_date':'2017-08-20T16:59:35.825Z',\n",
    "                   'end_date':'2021-02-2T17:59:35.825Z'},\n",
    "   'drop_non_numeric' : 1\n",
    "}"
   ]
  },
  {
   "cell_type": "markdown",
   "metadata": {
    "id": "rqXo8R8qNxhc"
   },
   "source": [
    "def pullObservationsToDF(parameters):\n",
    "    action = 'API_getObservationsFromDataset'\n",
    "    df = pd.read_json(json.dumps(OpenBlender.call(action,parameters)['sample'])\n",
    "                    ,convert_dates=False,convert_axes=False).sort_values('timestamp', ascending=False)\n",
    "    df.reset_index(drop=True, inplace=True)\n",
    "    return df\n",
    "df = pullObservationsToDF(parameters)"
   ]
  }
 ],
 "metadata": {
  "colab": {
   "collapsed_sections": [],
   "name": "Bitcoin news.ipynb",
   "provenance": []
  },
  "kernelspec": {
   "display_name": "Python 3",
   "language": "python",
   "name": "python3"
  },
  "language_info": {
   "codemirror_mode": {
    "name": "ipython",
    "version": 3
   },
   "file_extension": ".py",
   "mimetype": "text/x-python",
   "name": "python",
   "nbconvert_exporter": "python",
   "pygments_lexer": "ipython3",
   "version": "3.7.10"
  }
 },
 "nbformat": 4,
 "nbformat_minor": 1
}
