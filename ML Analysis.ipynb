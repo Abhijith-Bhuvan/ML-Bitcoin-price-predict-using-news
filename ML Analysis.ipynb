{
 "cells": [
  {
   "cell_type": "code",
   "execution_count": 1,
   "id": "cleared-fabric",
   "metadata": {},
   "outputs": [],
   "source": [
    "import pandas as pd\n",
    "import numpy as np"
   ]
  },
  {
   "cell_type": "code",
   "execution_count": 2,
   "id": "silver-montana",
   "metadata": {},
   "outputs": [
    {
     "name": "stdout",
     "output_type": "stream",
     "text": [
      "     price  target  sentiment\n",
      "0  11873.4       1  -0.100000\n",
      "1  11761.0       0   0.579167\n",
      "2  11792.5       1   0.516667\n",
      "3  11591.0       1   0.800000\n",
      "4  11892.0       1  -0.376984\n"
     ]
    }
   ],
   "source": [
    "dataset = pd.read_csv('dataset.csv')\n",
    "\n",
    "print(dataset.head())\n"
   ]
  },
  {
   "cell_type": "code",
   "execution_count": 3,
   "id": "opposed-scoop",
   "metadata": {},
   "outputs": [
    {
     "name": "stdout",
     "output_type": "stream",
     "text": [
      "     price  sentiment\n",
      "0  11873.4  -0.100000\n",
      "1  11761.0   0.579167\n",
      "2  11792.5   0.516667\n",
      "3  11591.0   0.800000\n",
      "4  11892.0  -0.376984\n"
     ]
    }
   ],
   "source": [
    "x = dataset.loc[:,['price','sentiment']]\n",
    "print(x.head())"
   ]
  },
  {
   "cell_type": "code",
   "execution_count": 4,
   "id": "pleased-footwear",
   "metadata": {},
   "outputs": [
    {
     "name": "stdout",
     "output_type": "stream",
     "text": [
      "0 implies price decreased in compared to the previous day. 1 implies price increased\n",
      "0    1\n",
      "1    0\n",
      "2    1\n",
      "3    1\n",
      "4    1\n",
      "Name: target, dtype: int64\n"
     ]
    }
   ],
   "source": [
    "y = dataset.loc[:,'target']\n",
    "print('0 implies price decreased in compared to the previous day. 1 implies price increased')\n",
    "print(y.head())"
   ]
  },
  {
   "cell_type": "code",
   "execution_count": 5,
   "id": "pursuant-drain",
   "metadata": {},
   "outputs": [
    {
     "name": "stdout",
     "output_type": "stream",
     "text": [
      "1    122\n",
      "0    103\n",
      "Name: target, dtype: int64\n"
     ]
    }
   ],
   "source": [
    "# Checking for class imbalance.\n",
    "print(y.value_counts())"
   ]
  },
  {
   "cell_type": "code",
   "execution_count": 6,
   "id": "modern-macedonia",
   "metadata": {},
   "outputs": [],
   "source": [
    "from sklearn.model_selection import train_test_split"
   ]
  },
  {
   "cell_type": "code",
   "execution_count": 7,
   "id": "solar-hybrid",
   "metadata": {},
   "outputs": [],
   "source": [
    "x_train,x_test,y_train,y_test = train_test_split(x,y,test_size=0.33)"
   ]
  },
  {
   "cell_type": "code",
   "execution_count": 8,
   "id": "adverse-monroe",
   "metadata": {},
   "outputs": [],
   "source": [
    "from sklearn.model_selection import GridSearchCV\n",
    "from sklearn.metrics import classification_report"
   ]
  },
  {
   "cell_type": "code",
   "execution_count": 9,
   "id": "about-format",
   "metadata": {},
   "outputs": [],
   "source": [
    "from sklearn.linear_model import LogisticRegression"
   ]
  },
  {
   "cell_type": "code",
   "execution_count": 10,
   "id": "framed-arctic",
   "metadata": {},
   "outputs": [
    {
     "name": "stdout",
     "output_type": "stream",
     "text": [
      "Best parameters set found on training set:\n",
      "\n",
      "{'C': 10}\n",
      "\n",
      "Detailed classification report:\n",
      "\n",
      "              precision    recall  f1-score   support\n",
      "\n",
      "           0       0.53      0.34      0.42        29\n",
      "           1       0.66      0.80      0.73        46\n",
      "\n",
      "    accuracy                           0.63        75\n",
      "   macro avg       0.59      0.57      0.57        75\n",
      "weighted avg       0.61      0.63      0.61        75\n",
      "\n",
      "\n"
     ]
    }
   ],
   "source": [
    "# Tested multiple solver-penalty combinations.  liblinear with l2 was found to be consitently better\n",
    "\n",
    "tuned_parameter = [{'C': [0.1,0.5,1,5,10,20,50,100]}]\n",
    "\n",
    "clf_LR = GridSearchCV(LogisticRegression(max_iter=50000, solver='liblinear', penalty='l2'),\n",
    "                           tuned_parameter, scoring='f1_macro')\n",
    "\n",
    "clf_LR.fit(x_train, y_train)\n",
    "print(\"Best parameters set found on training set:\\n\")\n",
    "print(clf_LR.best_params_)\n",
    "print()\n",
    "    \n",
    "    \n",
    "y_true, y_pred = y_test, clf_LR.predict(x_test)\n",
    "\n",
    "print(\"Detailed classification report:\\n\")\n",
    "print(classification_report(y_true, y_pred))\n",
    "print()"
   ]
  },
  {
   "cell_type": "code",
   "execution_count": 11,
   "id": "described-montreal",
   "metadata": {},
   "outputs": [],
   "source": [
    "from sklearn.preprocessing import StandardScaler\n",
    "from sklearn.svm import SVC"
   ]
  },
  {
   "cell_type": "code",
   "execution_count": 12,
   "id": "regulation-blind",
   "metadata": {},
   "outputs": [],
   "source": [
    "# For SVM's, scaling of the data is required\n",
    "scaler = StandardScaler()\n",
    "x_scaled_train = scaler.fit_transform(x_train)\n",
    "x_scaled_test = scaler.transform(x_test)"
   ]
  },
  {
   "cell_type": "code",
   "execution_count": 13,
   "id": "sized-metropolitan",
   "metadata": {},
   "outputs": [
    {
     "name": "stdout",
     "output_type": "stream",
     "text": [
      "Best parameters set found on development set:\n",
      "\n",
      "{'C': 10, 'gamma': 1, 'kernel': 'rbf'}\n",
      "\n",
      "Detailed classification report:\n",
      "\n",
      "              precision    recall  f1-score   support\n",
      "\n",
      "           0       0.41      0.38      0.39        29\n",
      "           1       0.62      0.65      0.64        46\n",
      "\n",
      "    accuracy                           0.55        75\n",
      "   macro avg       0.52      0.52      0.52        75\n",
      "weighted avg       0.54      0.55      0.54        75\n",
      "\n",
      "\n"
     ]
    }
   ],
   "source": [
    "# SVC, NuSVC and LinearSVC were tested. SVC was found to be the best\n",
    "\n",
    "tuned_parameters = [{'kernel': ['rbf'], 'gamma': [1, 0.1, 0.01, 0.001, 1e-3, 1e-4],\n",
    "                     'C': [0.1, 1, 10, 100, 1000]},\n",
    "                    {'kernel': ['linear'], 'C': [0.1, 1, 10, 100, 1000]}]\n",
    "\n",
    "clf_svm = GridSearchCV(SVC(), tuned_parameters, scoring='f1_macro')\n",
    "clf_svm.fit(x_scaled_train, y_train)\n",
    "\n",
    "print(\"Best parameters set found on development set:\\n\")\n",
    "print(clf_svm.best_params_)\n",
    "print()\n",
    "\n",
    "print(\"Detailed classification report:\\n\")\n",
    "\n",
    "y_true, y_pred = y_test, clf_svm.predict(x_scaled_test)\n",
    "print(classification_report(y_true, y_pred))\n",
    "print()"
   ]
  },
  {
   "cell_type": "code",
   "execution_count": 14,
   "id": "disciplinary-damages",
   "metadata": {},
   "outputs": [],
   "source": [
    "from sklearn.ensemble import RandomForestClassifier"
   ]
  },
  {
   "cell_type": "code",
   "execution_count": 15,
   "id": "engaging-brunswick",
   "metadata": {},
   "outputs": [
    {
     "name": "stdout",
     "output_type": "stream",
     "text": [
      "Detailed classification report:\n",
      "\n",
      "              precision    recall  f1-score   support\n",
      "\n",
      "           0       0.41      0.41      0.41        29\n",
      "           1       0.63      0.63      0.63        46\n",
      "\n",
      "    accuracy                           0.55        75\n",
      "   macro avg       0.52      0.52      0.52        75\n",
      "weighted avg       0.55      0.55      0.55        75\n",
      "\n",
      "\n"
     ]
    }
   ],
   "source": [
    "clf_RF = RandomForestClassifier(max_depth=2, random_state=0)\n",
    "clf_RF.fit(x_train, y_train)\n",
    "print(\"Detailed classification report:\\n\")\n",
    "\n",
    "y_true, y_pred = y_test, clf_RF.predict(x_test)\n",
    "print(classification_report(y_true, y_pred))\n",
    "print()"
   ]
  },
  {
   "cell_type": "code",
   "execution_count": 16,
   "id": "cooperative-commodity",
   "metadata": {},
   "outputs": [
    {
     "name": "stderr",
     "output_type": "stream",
     "text": [
      "Using TensorFlow backend.\n"
     ]
    }
   ],
   "source": [
    "from tensorflow import keras\n",
    "from keras.wrappers.scikit_learn import KerasClassifier"
   ]
  },
  {
   "cell_type": "code",
   "execution_count": 17,
   "id": "studied-graphics",
   "metadata": {},
   "outputs": [],
   "source": [
    "from sklearn.pipeline import Pipeline"
   ]
  },
  {
   "cell_type": "code",
   "execution_count": 18,
   "id": "extraordinary-pharmacy",
   "metadata": {},
   "outputs": [],
   "source": [
    "def create_baseline():\n",
    "    # create model\n",
    "    optimizer = keras.optimizers.Nadam()\n",
    "    accuracy = keras.metrics.BinaryAccuracy()\n",
    "    model = keras.models.Sequential()    \n",
    "    model.add(keras.layers.Dense(300, input_dim=2, activation=\"relu\"))    \n",
    "    model.add(keras.layers.Dropout(rate=0.2))\n",
    "    model.add(keras.layers.Dense(100, activation=\"relu\"))\n",
    "    model.add(keras.layers.Dropout(rate=0.2))\n",
    "    model.add(keras.layers.Dense(1, activation=\"sigmoid\"))\n",
    "    \n",
    "    # Compile model\n",
    "    model.compile(loss='binary_crossentropy', optimizer=optimizer, metrics=[accuracy])\n",
    "    \n",
    "    return model"
   ]
  },
  {
   "cell_type": "code",
   "execution_count": 19,
   "id": "brief-surfing",
   "metadata": {},
   "outputs": [],
   "source": [
    "from sklearn.preprocessing import MinMaxScaler"
   ]
  },
  {
   "cell_type": "code",
   "execution_count": 20,
   "id": "judicial-glance",
   "metadata": {},
   "outputs": [],
   "source": [
    "scaler = MinMaxScaler()\n",
    "x_scaled_train = scaler.fit_transform(x_train)\n",
    "x_scaled_test = scaler.transform(x_test)"
   ]
  },
  {
   "cell_type": "code",
   "execution_count": 21,
   "id": "acoustic-income",
   "metadata": {
    "scrolled": false
   },
   "outputs": [
    {
     "name": "stdout",
     "output_type": "stream",
     "text": [
      "WARNING:tensorflow:From C:\\Users\\abhi\\Anaconda3\\lib\\site-packages\\tensorflow_core\\python\\ops\\resource_variable_ops.py:1630: calling BaseResourceVariable.__init__ (from tensorflow.python.ops.resource_variable_ops) with constraint is deprecated and will be removed in a future version.\n",
      "Instructions for updating:\n",
      "If using Keras pass *_constraint arguments to layers.\n",
      "WARNING:tensorflow:From C:\\Users\\abhi\\Anaconda3\\lib\\site-packages\\tensorflow_core\\python\\ops\\nn_impl.py:183: where (from tensorflow.python.ops.array_ops) is deprecated and will be removed in a future version.\n",
      "Instructions for updating:\n",
      "Use tf.where in 2.0, which has the same broadcast rule as np.where\n",
      "Train on 150 samples\n",
      "Epoch 1/5\n",
      "150/150 [==============================] - 3s 22ms/sample - loss: 0.6951 - binary_accuracy: 0.5000\n",
      "Epoch 2/5\n",
      "150/150 [==============================] - 0s 1ms/sample - loss: 0.6984 - binary_accuracy: 0.4600\n",
      "Epoch 3/5\n",
      "150/150 [==============================] - 1s 4ms/sample - loss: 0.6907 - binary_accuracy: 0.5133\n",
      "Epoch 4/5\n",
      "150/150 [==============================] - 0s 899us/sample - loss: 0.6960 - binary_accuracy: 0.4800\n",
      "Epoch 5/5\n",
      "150/150 [==============================] - 0s 1ms/sample - loss: 0.6902 - binary_accuracy: 0.5533\n",
      "75/75 [==============================] - 1s 7ms/sample\n",
      "              precision    recall  f1-score   support\n",
      "\n",
      "           0       0.56      0.17      0.26        29\n",
      "           1       0.64      0.91      0.75        46\n",
      "\n",
      "    accuracy                           0.63        75\n",
      "   macro avg       0.60      0.54      0.51        75\n",
      "weighted avg       0.61      0.63      0.56        75\n",
      "\n"
     ]
    }
   ],
   "source": [
    "estimators = []\n",
    "estimators.append(('mlp', KerasClassifier(build_fn=create_baseline, epochs=5, batch_size=5, verbose=1)))\n",
    "pipe = Pipeline(estimators)\n",
    "pipe.fit(x_scaled_train, y_train)\n",
    "y_res = pipe.predict(x_scaled_test)\n",
    "print(classification_report(y_test, y_res))"
   ]
  },
  {
   "cell_type": "code",
   "execution_count": 24,
   "id": "lovely-dubai",
   "metadata": {
    "scrolled": false
   },
   "outputs": [
    {
     "name": "stdout",
     "output_type": "stream",
     "text": [
      "Train on 150 samples\n",
      "Epoch 1/10\n",
      "150/150 [==============================] - 2s 12ms/sample - loss: 0.6961 - binary_accuracy: 0.4933\n",
      "Epoch 2/10\n",
      "150/150 [==============================] - 1s 4ms/sample - loss: 0.6945 - binary_accuracy: 0.5400\n",
      "Epoch 3/10\n",
      "150/150 [==============================] - 0s 733us/sample - loss: 0.6917 - binary_accuracy: 0.5133\n",
      "Epoch 4/10\n",
      "150/150 [==============================] - 0s 1ms/sample - loss: 0.6961 - binary_accuracy: 0.4867\n",
      "Epoch 5/10\n",
      "150/150 [==============================] - 0s 3ms/sample - loss: 0.6905 - binary_accuracy: 0.5133\n",
      "Epoch 6/10\n",
      "150/150 [==============================] - 1s 4ms/sample - loss: 0.6935 - binary_accuracy: 0.5333\n",
      "Epoch 7/10\n",
      "150/150 [==============================] - 1s 4ms/sample - loss: 0.6901 - binary_accuracy: 0.5067\n",
      "Epoch 8/10\n",
      "150/150 [==============================] - 1s 5ms/sample - loss: 0.6889 - binary_accuracy: 0.5400\n",
      "Epoch 9/10\n",
      "150/150 [==============================] - 1s 4ms/sample - loss: 0.6904 - binary_accuracy: 0.5467\n",
      "Epoch 10/10\n",
      "150/150 [==============================] - 1s 6ms/sample - loss: 0.6879 - binary_accuracy: 0.5067\n",
      "75/75 [==============================] - 0s 6ms/sample\n",
      "              precision    recall  f1-score   support\n",
      "\n",
      "           0       0.47      0.28      0.35        29\n",
      "           1       0.64      0.80      0.71        46\n",
      "\n",
      "    accuracy                           0.60        75\n",
      "   macro avg       0.55      0.54      0.53        75\n",
      "weighted avg       0.57      0.60      0.57        75\n",
      "\n"
     ]
    }
   ],
   "source": [
    "estimators = []\n",
    "estimators.append(('mlp', KerasClassifier(build_fn=create_baseline, epochs=10, batch_size=5, verbose=1)))\n",
    "pipe = Pipeline(estimators)\n",
    "pipe.fit(x_scaled_train, y_train)\n",
    "y_res = pipe.predict(x_scaled_test)\n",
    "print(classification_report(y_test, y_res))"
   ]
  }
 ],
 "metadata": {
  "kernelspec": {
   "display_name": "Python 3",
   "language": "python",
   "name": "python3"
  },
  "language_info": {
   "codemirror_mode": {
    "name": "ipython",
    "version": 3
   },
   "file_extension": ".py",
   "mimetype": "text/x-python",
   "name": "python",
   "nbconvert_exporter": "python",
   "pygments_lexer": "ipython3",
   "version": "3.7.10"
  }
 },
 "nbformat": 4,
 "nbformat_minor": 5
}
